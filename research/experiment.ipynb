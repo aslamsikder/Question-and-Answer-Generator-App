{
 "cells": [
  {
   "cell_type": "code",
   "execution_count": 1,
   "id": "f62fe6e9",
   "metadata": {},
   "outputs": [],
   "source": [
    "import os\n",
    "from dotenv import load_dotenv"
   ]
  },
  {
   "cell_type": "code",
   "execution_count": 2,
   "id": "4c7c2cf8",
   "metadata": {},
   "outputs": [],
   "source": [
    "load_dotenv()\n",
    "OPENROUTER_API_KEY = os.getenv(\"OPENROUTER_API_KEY\")"
   ]
  },
  {
   "cell_type": "code",
   "execution_count": 3,
   "id": "77145d90",
   "metadata": {},
   "outputs": [],
   "source": [
    "os.environ[\"OPENROUTER_API_KEY\"] = OPENROUTER_API_KEY"
   ]
  },
  {
   "cell_type": "code",
   "execution_count": 4,
   "id": "1fe26202",
   "metadata": {},
   "outputs": [],
   "source": [
    "from langchain.document_loaders import PyPDFLoader"
   ]
  },
  {
   "cell_type": "code",
   "execution_count": 5,
   "metadata": {},
   "outputs": [
    {
     "data": {
      "text/plain": [
       "'g:\\\\[AI Agent Development]\\\\Question-and-Answer-Generator-App\\\\research'"
      ]
     },
     "execution_count": 5,
     "metadata": {},
     "output_type": "execute_result"
    }
   ],
   "source": [
    "%pwd"
   ]
  },
  {
   "cell_type": "code",
   "execution_count": 6,
   "id": "0991f2be",
   "metadata": {},
   "outputs": [
    {
     "name": "stdout",
     "output_type": "stream",
     "text": [
      "g:\\[AI Agent Development]\\Question-and-Answer-Generator-App\n"
     ]
    }
   ],
   "source": [
    "%cd .."
   ]
  },
  {
   "cell_type": "code",
   "execution_count": 7,
   "id": "118d4361",
   "metadata": {},
   "outputs": [
    {
     "data": {
      "text/plain": [
       "'g:\\\\[AI Agent Development]\\\\Question-and-Answer-Generator-App'"
      ]
     },
     "execution_count": 7,
     "metadata": {},
     "output_type": "execute_result"
    }
   ],
   "source": [
    "%pwd"
   ]
  },
  {
   "cell_type": "code",
   "execution_count": 8,
   "id": "ef598fbe",
   "metadata": {},
   "outputs": [],
   "source": [
    "file_path = \"data/SDG.pdf\"\n",
    "loader = PyPDFLoader(file_path)\n",
    "data = loader.load()"
   ]
  },
  {
   "cell_type": "code",
   "execution_count": 9,
   "id": "822de89a",
   "metadata": {},
   "outputs": [
    {
     "data": {
      "text/plain": [
       "[Document(metadata={'producer': 'Adobe PDF Library 15.0', 'creator': 'Adobe InDesign CC 13.0 (Macintosh)', 'creationdate': '2017-12-26T16:03:25-05:00', 'moddate': '2017-12-27T15:29:10-05:00', 'trapped': '/False', 'source': 'data/SDG.pdf', 'total_pages': 24, 'page': 0, 'page_label': '1'}, page_content=''),\n",
       " Document(metadata={'producer': 'Adobe PDF Library 15.0', 'creator': 'Adobe InDesign CC 13.0 (Macintosh)', 'creationdate': '2017-12-26T16:03:25-05:00', 'moddate': '2017-12-27T15:29:10-05:00', 'trapped': '/False', 'source': 'data/SDG.pdf', 'total_pages': 24, 'page': 1, 'page_label': '2'}, page_content=''),\n",
       " Document(metadata={'producer': 'Adobe PDF Library 15.0', 'creator': 'Adobe InDesign CC 13.0 (Macintosh)', 'creationdate': '2017-12-26T16:03:25-05:00', 'moddate': '2017-12-27T15:29:10-05:00', 'trapped': '/False', 'source': 'data/SDG.pdf', 'total_pages': 24, 'page': 2, 'page_label': '3'}, page_content='IN THE YEAR 2015, LEADERS FROM 193 COUNTRIES OF THE WORLD \\nCAME TOGETHER TO FACE THE FUTURE.\\nAnd what they saw was daunting. Famines. Drought. Wars. Plagues. Poverty. \\nNot just in some faraway place, but in their own cities and towns and villages.\\nThey knew things didn’t have to be this way. They knew we had enough \\nfood to feed the world, but that it wasn’t getting shared. They knew there \\nwere medicines for HIV and other diseases, but they cost a lot. They knew \\nthat earthquakes and floods were inevitable, but that the high death \\ntolls were not. \\nThey also knew that billions of people worldwide shared their hope for a \\nbetter future.\\nSo leaders from these countries created a plan called the Sustainable \\nDevelopment Goals (SDGs). This set of 17 goals imagines a future just 15 years \\noff that would be rid of poverty and hunger, and safe from the worst effects of \\nclimate change. It’s an ambitious plan. \\nBut there’s ample evidence that we can succeed. In the past 15 years, the \\ninternational community cut extreme poverty in half. \\nNow we can finish the job.\\nThe United Nations Development Programme (UNDP) is one of the leading \\norganizations working to fulfil the SDGs by the year 2030. Present in nearly \\n170 countries and territories, we help nations make the Goals a reality. \\nWe also champion the Goals so that people everywhere know how to \\ndo their part. \\nUNDP is proud to continue as a leader in this global movement.\\nLearn about the Sustainable Development Goals.  What’s your Goal?'),\n",
       " Document(metadata={'producer': 'Adobe PDF Library 15.0', 'creator': 'Adobe InDesign CC 13.0 (Macintosh)', 'creationdate': '2017-12-26T16:03:25-05:00', 'moddate': '2017-12-27T15:29:10-05:00', 'trapped': '/False', 'source': 'data/SDG.pdf', 'total_pages': 24, 'page': 3, 'page_label': '4'}, page_content='END EXTREME POVERTY IN ALL FORMS  \\nBY 2030.\\nYes, it’s an ambitious goal—but we believe it can be done. In 2000, the \\nworld committed to halving the number of people living in extreme \\npoverty by the year 2015 and we met this goal. However, more than \\n800 million people around the world still live on less than $1.25 a day—\\nthat’s about the equivalent of the entire population of Europe living in \\nextreme poverty. Now it’s time to build on what we learned and end \\npoverty altogether.'),\n",
       " Document(metadata={'producer': 'Adobe PDF Library 15.0', 'creator': 'Adobe InDesign CC 13.0 (Macintosh)', 'creationdate': '2017-12-26T16:03:25-05:00', 'moddate': '2017-12-27T15:29:10-05:00', 'trapped': '/False', 'source': 'data/SDG.pdf', 'total_pages': 24, 'page': 4, 'page_label': '5'}, page_content='END HUNGER, ACHIEVE FOOD SECURITY \\nAND IMPROVED NUTRITION AND PROMOTE \\nSUSTAINABLE AGRICUL TURE\\nIn the past 20 years, hunger has dropped by almost half. Many \\ncountries that used to suffer from famine and hunger can now \\nmeet the nutritional needs of their most vulnerable people. It’s an \\nincredible accomplishment. Now we can go further and end hunger \\nand malnutrition once and for all. That means doing things such as \\npromoting sustainable agriculture and supporting small farmers. It’s a tall \\norder. But for the sake of the nearly 1 out of every 9 people on earth who \\ngo to bed hungry every night, we’ve got to try. Imagine a world where \\neveryone has access to sufficient and nutritious food all year round. \\nTogether, we can make that a reality by 2030.'),\n",
       " Document(metadata={'producer': 'Adobe PDF Library 15.0', 'creator': 'Adobe InDesign CC 13.0 (Macintosh)', 'creationdate': '2017-12-26T16:03:25-05:00', 'moddate': '2017-12-27T15:29:10-05:00', 'trapped': '/False', 'source': 'data/SDG.pdf', 'total_pages': 24, 'page': 5, 'page_label': '6'}, page_content='ENSURE HEAL THY LIVES AND PROMOTE \\nWELL-BEING FOR ALL AT ALL AGES\\nWe all know how important it is to be in good health. Our health affects \\neverything from how much we enjoy life to what work we can perform. \\nThat’s why there’s a Goal to make sure everyone has health coverage \\nand access to safe and effective medicines and vaccines. In the 25 \\nyears before the SDGs, we made big strides—preventable child deaths \\ndropped by more than half, and maternal mortality went down by \\nalmost as much. And yet some other numbers remain tragically high, like \\nthe fact that 6 million children die every year before their fifth birthday, \\nor that AIDS is the leading cause of death for adolescents in sub-Saharan \\nAfrica. We have the means to turn that around and make good health \\nmore than just a wish.'),\n",
       " Document(metadata={'producer': 'Adobe PDF Library 15.0', 'creator': 'Adobe InDesign CC 13.0 (Macintosh)', 'creationdate': '2017-12-26T16:03:25-05:00', 'moddate': '2017-12-27T15:29:10-05:00', 'trapped': '/False', 'source': 'data/SDG.pdf', 'total_pages': 24, 'page': 6, 'page_label': '7'}, page_content='ENSURE INCLUSIVE AND EQUITABLE QUALITY \\nEDUCATION AND PROMOTE LIFELONG \\nLEARNING OPPORTUNITIES FOR ALL \\nFirst, the bad news on education. Poverty, armed conflict and other \\nemergencies keep many, many kids around the world out of school. In \\nfact, kids from the poorest households are four times more likely to be \\nout of school than those of the richest households. Now for some good \\nnews. Since 2000, there has been enormous progress on the goal to \\nprovide primary education to all children worldwide: the total enrolment \\nrate in developing regions has reached 91%. By measures in any school, \\nthat’s a good grade. Now, let’s get an even better grade for all kids, \\nand achieve the goal of universal primary and secondary education, \\naffordable vocational training, access to higher education and more.'),\n",
       " Document(metadata={'producer': 'Adobe PDF Library 15.0', 'creator': 'Adobe InDesign CC 13.0 (Macintosh)', 'creationdate': '2017-12-26T16:03:25-05:00', 'moddate': '2017-12-27T15:29:10-05:00', 'trapped': '/False', 'source': 'data/SDG.pdf', 'total_pages': 24, 'page': 7, 'page_label': '8'}, page_content='We can celebrate the great progress the world has made in becoming \\nmore prosperous and fair. But there’s a shadow to the celebration. In \\njust about every way, women and girls lag behind. There are still gross \\ninequalities in work and wages, lots of unpaid “women’s work” such as \\nchild care and domestic work, and discrimination in public decision-\\nmaking. But there are grounds for hope. More girls are in school now \\ncompared to in 2000. Most regions have reached gender parity in \\nprimary education. The percentage of women getting paid for their work \\nis on the rise. The Sustainable Development Goals aim to build on these \\nachievements to ensure that there is an end to discrimination against \\nwomen and girls everywhere.\\nACHIEVE GENDER EQUALITY AND \\nEMPOWER ALL WOMEN AND GIRLS'),\n",
       " Document(metadata={'producer': 'Adobe PDF Library 15.0', 'creator': 'Adobe InDesign CC 13.0 (Macintosh)', 'creationdate': '2017-12-26T16:03:25-05:00', 'moddate': '2017-12-27T15:29:10-05:00', 'trapped': '/False', 'source': 'data/SDG.pdf', 'total_pages': 24, 'page': 8, 'page_label': '9'}, page_content='Everyone on earth should have access to safe and affordable drinking \\nwater. That’s the goal for 2030. While many people take clean drinking \\nwater and sanitation for granted, many others don’t. Water scarcity \\naffects more than 40 percent of people around the world, and that \\nnumber is projected to go even higher as a result of climate change. \\nIf we continue the path we’re on, by 2050 at least one in four people \\nare likely to be affected by recurring water shortages. But we can take \\na new path—more international cooperation, protecting wetlands \\nand rivers, sharing water-treatment technologies—that leads to \\naccomplishing this Goal. \\nENSURE AVAILABILITY AND SUSTAINABLE \\nMANAGEMENT OF WATER AND SANITATION \\nFOR ALL'),\n",
       " Document(metadata={'producer': 'Adobe PDF Library 15.0', 'creator': 'Adobe InDesign CC 13.0 (Macintosh)', 'creationdate': '2017-12-26T16:03:25-05:00', 'moddate': '2017-12-27T15:29:10-05:00', 'trapped': '/False', 'source': 'data/SDG.pdf', 'total_pages': 24, 'page': 9, 'page_label': '10'}, page_content='ENSURE ACCESS TO AFFORDABLE, RELIABLE, \\nSUSTAINABLE AND MODERN ENERGY FOR \\nALL \\nBetween 1990 and 2010, the number of people with access to electricity \\nincreased by 1.7 billion. That’s progress to be proud of. And yet as the \\nworld’s population continues to rise, still more people will need cheap \\nenergy to light their homes and streets, use phones and computers, \\nand do their everyday business. How we get that energy is at issue; fossil \\nfuels and greenhouse gas emissions are making drastic changes in the \\nclimate, leading to big problems on every continent. Instead, we can \\nbecome more energy-efficient and invest in clean energy sources such \\nas solar and wind. That way we’ll meet electricity needs and protect the \\nenvironment. How’s that for a balancing act?'),\n",
       " Document(metadata={'producer': 'Adobe PDF Library 15.0', 'creator': 'Adobe InDesign CC 13.0 (Macintosh)', 'creationdate': '2017-12-26T16:03:25-05:00', 'moddate': '2017-12-27T15:29:10-05:00', 'trapped': '/False', 'source': 'data/SDG.pdf', 'total_pages': 24, 'page': 10, 'page_label': '11'}, page_content='PROMOTE SUSTAINED, INCLUSIVE AND \\nSUSTAINABLE ECONOMIC GROWTH, FULL \\nAND PRODUCTIVE EMPLOYMENT AND \\nDECENT WORK FOR ALL \\nAn important part of economic growth is that people have jobs that \\npay enough to support themselves and their families. The good news \\nis that the middle class is growing worldwide—almost tripling in size \\nin developing countries in the last 25 years, to more than a third of the \\npopulation. But today, job growth is not keeping pace with the growing \\nlabour force. Things don’t have to be that way. We can promote policies \\nthat encourage entrepreneurship and job creation. We can eradicate \\nforced labour, slavery and human trafficking. And in the end we can \\nachieve the goal of decent work for all women and men by 2030.'),\n",
       " Document(metadata={'producer': 'Adobe PDF Library 15.0', 'creator': 'Adobe InDesign CC 13.0 (Macintosh)', 'creationdate': '2017-12-26T16:03:25-05:00', 'moddate': '2017-12-27T15:29:10-05:00', 'trapped': '/False', 'source': 'data/SDG.pdf', 'total_pages': 24, 'page': 11, 'page_label': '12'}, page_content='BUILD RESILIENT INFRASTRUCTURE, \\nPROMOTE INCLUSIVE AND SUSTAINABLE \\nINDUSTRIALIZATION AND FOSTER \\nINNOVATION \\nTechnological progress helps us address big global challenges such as \\ncreating jobs and becoming more energy efficient. For example, the \\nworld is becoming ever more interconnected and prosperous thanks to \\nthe internet. The more connected we are, the more we can all benefit \\nfrom the wisdom and contributions of people everywhere on earth.  And \\nyet four billion people have no way of getting online, the vast majority \\nof them in developing countries. The more we invest in innovation \\nand infrastructure, the better off we’ll all be. Bridging the digital divide, \\npromoting sustainable industries, and investing in scientific research and \\ninnovation are all important ways to facilitate sustainable development.'),\n",
       " Document(metadata={'producer': 'Adobe PDF Library 15.0', 'creator': 'Adobe InDesign CC 13.0 (Macintosh)', 'creationdate': '2017-12-26T16:03:25-05:00', 'moddate': '2017-12-27T15:29:10-05:00', 'trapped': '/False', 'source': 'data/SDG.pdf', 'total_pages': 24, 'page': 12, 'page_label': '13'}, page_content='REDUCE INEQUALITY WITHIN AND AMONG \\nCOUNTRIES \\nIt’s an old story: the rich get richer, and the poor get poorer. The divide \\nhas never been starker. We can and must adopt policies that create \\nopportunity for everyone, regardless of who they are or where they \\ncome from. Income inequality is a global problem that requires global \\nsolutions. That means improving the regulation of financial markets \\nand institutions, sending development aid where it is most needed \\nand helping people migrate safely so they can pursue opportunities. \\nTogether, we can now change the direction of the old story of inequality.'),\n",
       " Document(metadata={'producer': 'Adobe PDF Library 15.0', 'creator': 'Adobe InDesign CC 13.0 (Macintosh)', 'creationdate': '2017-12-26T16:03:25-05:00', 'moddate': '2017-12-27T15:29:10-05:00', 'trapped': '/False', 'source': 'data/SDG.pdf', 'total_pages': 24, 'page': 13, 'page_label': '14'}, page_content='MAKE CITIES AND HUMAN SETTLEMENTS \\nINCLUSIVE, SAFE, RESILIENT AND \\nSUSTAINABLE \\nIf you’re like most people, you live in a city. More than half the world’s \\npopulation now lives in cities, and that figure will go to about two-thirds \\nof humanity by the year 2050. Cities are getting bigger. In 1990 there \\nwere ten “mega-cities” with 10 million inhabitants or more. In 2014, there \\nwere 28 mega-cities, home to 453 million people. Incredible, huh? A lot \\nof people love cities; they’re centers of culture and business and life. The \\nthing is, they’re also often centers of extreme poverty. To make cities \\nsustainable for all, we can create good, affordable public housing. We \\ncan upgrade slum settlements. We can invest in public transport, create \\ngreen spaces, and get a broader range of people involved in urban \\nplanning decisions. That way, we can keep the things we love about \\ncities, and change the things we don’t.'),\n",
       " Document(metadata={'producer': 'Adobe PDF Library 15.0', 'creator': 'Adobe InDesign CC 13.0 (Macintosh)', 'creationdate': '2017-12-26T16:03:25-05:00', 'moddate': '2017-12-27T15:29:10-05:00', 'trapped': '/False', 'source': 'data/SDG.pdf', 'total_pages': 24, 'page': 14, 'page_label': '15'}, page_content='ENSURE SUSTAINABLE CONSUMPTION AND \\nPRODUCTION PATTERNS\\nSome people use a lot of stuff, and some people use very little—in fact, \\na big share of the world population is consuming too little to meet even \\ntheir basic needs. Instead, we can have a world where everybody gets \\nwhat they need to survive and thrive. And we can consume in a way \\nthat preserves our natural resources so that our children can enjoy them, \\nand their children and their children after that. The hard part is how to \\nachieve that goal. We can manage our natural resources more efficiently \\nand dispose of toxic waste better. Cut per capita food waste in half \\nglobally. Get businesses and consumers to reduce and recycle waste. \\nAnd help countries that have typically not consumed a lot to move \\ntowards more responsible consumption patterns.'),\n",
       " Document(metadata={'producer': 'Adobe PDF Library 15.0', 'creator': 'Adobe InDesign CC 13.0 (Macintosh)', 'creationdate': '2017-12-26T16:03:25-05:00', 'moddate': '2017-12-27T15:29:10-05:00', 'trapped': '/False', 'source': 'data/SDG.pdf', 'total_pages': 24, 'page': 15, 'page_label': '16'}, page_content='TAKE URGENT ACTION TO COMBAT CLIMATE \\nCHANGE AND ITS IMPACTS\\nEvery country in the world is seeing the drastic effects of climate \\nchange, some more than others. On average, the annual losses just \\nfrom earthquakes, tsunamis, tropical cyclones and flooding count in the \\nhundreds of billions of dollars. We can reduce the loss of life and property \\nby helping more vulnerable regions—such as land-locked countries \\nand island states—become more resilient. It is still possible, with the \\npolitical will and technological measures, to limit the increase in global \\nmean temperature to two degrees Celsius above pre-industrial levels—\\nand thus avoid the worst effects of climate change. The Sustainable \\nDevelopment Goals lay out a way for countries to work together to meet \\nthis urgent challenge.'),\n",
       " Document(metadata={'producer': 'Adobe PDF Library 15.0', 'creator': 'Adobe InDesign CC 13.0 (Macintosh)', 'creationdate': '2017-12-26T16:03:25-05:00', 'moddate': '2017-12-27T15:29:10-05:00', 'trapped': '/False', 'source': 'data/SDG.pdf', 'total_pages': 24, 'page': 16, 'page_label': '17'}, page_content='CONSERVE AND SUSTAINABLY USE THE \\nOCEANS, SEAS AND MARINE RESOURCES \\nFOR SUSTAINABLE DEVELOPMENT\\nThe oceans make human life possible. Their temperature, their chemistry, \\ntheir currents, their life forms. For one thing, more than 3 billion people \\ndepend on marine and coastal diversity for their livelihoods. But today \\nwe are seeing nearly a third of the world’s fish stocks overexploited. \\nThat’s not a sustainable way of life. Even people who live nowhere near \\nthe ocean can’t live without it. Oceans absorb about 30 percent of the \\ncarbon dioxide that humans produce; but we’re producing more carbon \\ndioxide than ever before and that makes the oceans more acidic—26% \\nmore, since the start of the industrial revolution. Our trash doesn’t help \\neither—13,000 pieces of plastic litter on every square kilometer of ocean. \\nSounds bad, right? Don’t despair! The Sustainable Development Goals \\nindicate targets for managing and protecting life below water.'),\n",
       " Document(metadata={'producer': 'Adobe PDF Library 15.0', 'creator': 'Adobe InDesign CC 13.0 (Macintosh)', 'creationdate': '2017-12-26T16:03:25-05:00', 'moddate': '2017-12-27T15:29:10-05:00', 'trapped': '/False', 'source': 'data/SDG.pdf', 'total_pages': 24, 'page': 17, 'page_label': '18'}, page_content='PROTECT, RESTORE AND PROMOTE \\nSUSTAINABLE USE OF TERRESTRIAL \\nECOSYSTEMS, SUSTAINABLY MANAGE \\nFORESTS, COMBAT DESERTIFICATION, AND \\nHAL T AND REVERSE LAND DEGRADATION \\nAND HAL T BIODIVERSITY LOSS \\nHumans and other animals rely on other forms of life on land for food, \\nclean air, clean water, and as a means of combatting climate change. \\nPlant life makes up 80% of the human diet. Forests, which cover 30% \\nof the Earth’s surface, help keep the air and water clean and the Earth’s \\nclimate in balance. That’s not to mention they’re home to millions of \\nanimal species. But the land and life on it are in trouble. Arable land \\nis disappearing 30 to 35 times faster than it has historically. Deserts \\nare spreading. Animal breeds are going extinct. We can turn these \\ntrends around. Fortunately, the Sustainable Development Goals aim to \\nconserve and restore the use of terrestrial ecosystems such as forests, \\nwetlands, drylands and mountains by 2030.'),\n",
       " Document(metadata={'producer': 'Adobe PDF Library 15.0', 'creator': 'Adobe InDesign CC 13.0 (Macintosh)', 'creationdate': '2017-12-26T16:03:25-05:00', 'moddate': '2017-12-27T15:29:10-05:00', 'trapped': '/False', 'source': 'data/SDG.pdf', 'total_pages': 24, 'page': 18, 'page_label': '19'}, page_content='PROMOTE PEACEFUL AND INCLUSIVE \\nSOCIETIES FOR SUSTAINABLE \\nDEVELOPMENT, PROVIDE ACCESS TO \\nJUSTICE FOR ALL AND BUILD EFFECTIVE, \\nACCOUNTABLE AND INCLUSIVE \\nINSTITUTIONS AT ALL LEVELS \\nHow can a country develop—how can people eat and teach and learn \\nand work and raise families—without peace? And how can a country \\nhave peace without justice, without human rights, without government \\nbased on the rule of law? Some parts of the world enjoy relative peace \\nand justice, and may come to take it for granted. Other parts seem to \\nbe plagued by armed conflict, crime, torture and exploitation, all of \\nwhich hinders their development. The goal of peace and justice is one \\nfor all countries to strive towards. The Sustainable Development Goals \\naim to reduce all forms of violence and propose that governments \\nand communities find lasting solutions to conflict and insecurity. That \\nmeans strengthening the rule of law, reducing the flow of illicit arms, \\nand bringing developing countries more into the center of institutions \\nof global governance.'),\n",
       " Document(metadata={'producer': 'Adobe PDF Library 15.0', 'creator': 'Adobe InDesign CC 13.0 (Macintosh)', 'creationdate': '2017-12-26T16:03:25-05:00', 'moddate': '2017-12-27T15:29:10-05:00', 'trapped': '/False', 'source': 'data/SDG.pdf', 'total_pages': 24, 'page': 19, 'page_label': '20'}, page_content='STRENGTHEN THE MEANS OF \\nIMPLEMENTATION AND REVITALIZE THE \\nGLOBAL PARTNERSHIP FOR SUSTAINABLE \\nDEVELOPMENT \\nThe Sustainable Development Goals are pretty big to-do list, don’t you \\nthink? In fact, it’s so big, you may just want to throw your hands up in the \\nair. “Forget it! Can’t be done! Why even try!” But we’ve got a lot going for \\nus. The world is more interconnected today than ever before, thanks to \\nthe internet, travel and global institutions. There’s a growing consensus \\nabout the need to work together to stop climate change. And the \\nSustainable Development Goals are no small matter either. 193 countries \\nagreed on these goals. Pretty incredible, isn’t it? 193 countries agreeing \\non anything? The final goal lays out a way for nations to work together to \\nachieve all the other Goals.'),\n",
       " Document(metadata={'producer': 'Adobe PDF Library 15.0', 'creator': 'Adobe InDesign CC 13.0 (Macintosh)', 'creationdate': '2017-12-26T16:03:25-05:00', 'moddate': '2017-12-27T15:29:10-05:00', 'trapped': '/False', 'source': 'data/SDG.pdf', 'total_pages': 24, 'page': 20, 'page_label': '21'}, page_content='Go shopping \\nMake a donation \\nStart a fundraiser \\nSpread the word \\nVisit shop.undp.org for SDG merchandise, and show off the goals you’re \\nmost passionate about. \\nMoney doesn’t just make the world go around; it’s also the most direct \\nway to reduce and eradicate all forms of poverty.\\nFundraising is a great way to raise money, create awareness, and inspire \\nothers. Plus, it’s fun!\\nSearch for @UNDP on Twitter, Facebook and Instagram, and share the \\ncontent you love.\\nTo donate or learn more about fundraising, visit undp.org/takeaction\\nThere are many ways to show your support and help us reach \\nthe Sustainable Development Goals by 2030. Here are a few :\\nWHA T CAN  \\nI DO TO HELP?'),\n",
       " Document(metadata={'producer': 'Adobe PDF Library 15.0', 'creator': 'Adobe InDesign CC 13.0 (Macintosh)', 'creationdate': '2017-12-26T16:03:25-05:00', 'moddate': '2017-12-27T15:29:10-05:00', 'trapped': '/False', 'source': 'data/SDG.pdf', 'total_pages': 24, 'page': 21, 'page_label': '22'}, page_content='NOTES'),\n",
       " Document(metadata={'producer': 'Adobe PDF Library 15.0', 'creator': 'Adobe InDesign CC 13.0 (Macintosh)', 'creationdate': '2017-12-26T16:03:25-05:00', 'moddate': '2017-12-27T15:29:10-05:00', 'trapped': '/False', 'source': 'data/SDG.pdf', 'total_pages': 24, 'page': 22, 'page_label': '23'}, page_content='NOTES'),\n",
       " Document(metadata={'producer': 'Adobe PDF Library 15.0', 'creator': 'Adobe InDesign CC 13.0 (Macintosh)', 'creationdate': '2017-12-26T16:03:25-05:00', 'moddate': '2017-12-27T15:29:10-05:00', 'trapped': '/False', 'source': 'data/SDG.pdf', 'total_pages': 24, 'page': 23, 'page_label': '24'}, page_content='')]"
      ]
     },
     "execution_count": 9,
     "metadata": {},
     "output_type": "execute_result"
    }
   ],
   "source": [
    "data"
   ]
  },
  {
   "cell_type": "code",
   "execution_count": 11,
   "id": "833bac9b",
   "metadata": {},
   "outputs": [
    {
     "data": {
      "text/plain": [
       "24"
      ]
     },
     "execution_count": 11,
     "metadata": {},
     "output_type": "execute_result"
    }
   ],
   "source": [
    "len(data)"
   ]
  },
  {
   "cell_type": "markdown",
   "id": "5897dd21",
   "metadata": {},
   "source": [
    "*Used for loop to get the page content only*"
   ]
  },
  {
   "cell_type": "code",
   "execution_count": 12,
   "id": "28d16f4d",
   "metadata": {},
   "outputs": [],
   "source": [
    "question_gen = \"\"\n",
    "for page in data:\n",
    "    question_gen += page.page_content"
   ]
  },
  {
   "cell_type": "code",
   "execution_count": 13,
   "id": "d93983fa",
   "metadata": {},
   "outputs": [
    {
     "data": {
      "text/plain": [
       "'IN THE YEAR 2015, LEADERS FROM 193 COUNTRIES OF THE WORLD \\nCAME TOGETHER TO FACE THE FUTURE.\\nAnd what they saw was daunting. Famines. Drought. Wars. Plagues. Poverty. \\nNot just in some faraway place, but in their own cities and towns and villages.\\nThey knew things didn’t have to be this way. They knew we had enough \\nfood to feed the world, but that it wasn’t getting shared. They knew there \\nwere medicines for HIV and other diseases, but they cost a lot. They knew \\nthat earthquakes and floods were inevitable, but that the high death \\ntolls were not. \\nThey also knew that billions of people worldwide shared their hope for a \\nbetter future.\\nSo leaders from these countries created a plan called the Sustainable \\nDevelopment Goals (SDGs). This set of 17 goals imagines a future just 15 years \\noff that would be rid of poverty and hunger, and safe from the worst effects of \\nclimate change. It’s an ambitious plan. \\nBut there’s ample evidence that we can succeed. In the past 15 years, the \\ninternational community cut extreme poverty in half. \\nNow we can finish the job.\\nThe United Nations Development Programme (UNDP) is one of the leading \\norganizations working to fulfil the SDGs by the year 2030. Present in nearly \\n170 countries and territories, we help nations make the Goals a reality. \\nWe also champion the Goals so that people everywhere know how to \\ndo their part. \\nUNDP is proud to continue as a leader in this global movement.\\nLearn about the Sustainable Development Goals.  What’s your Goal?END EXTREME POVERTY IN ALL FORMS  \\nBY 2030.\\nYes, it’s an ambitious goal—but we believe it can be done. In 2000, the \\nworld committed to halving the number of people living in extreme \\npoverty by the year 2015 and we met this goal. However, more than \\n800 million people around the world still live on less than $1.25 a day—\\nthat’s about the equivalent of the entire population of Europe living in \\nextreme poverty. Now it’s time to build on what we learned and end \\npoverty altogether.END HUNGER, ACHIEVE FOOD SECURITY \\nAND IMPROVED NUTRITION AND PROMOTE \\nSUSTAINABLE AGRICUL TURE\\nIn the past 20 years, hunger has dropped by almost half. Many \\ncountries that used to suffer from famine and hunger can now \\nmeet the nutritional needs of their most vulnerable people. It’s an \\nincredible accomplishment. Now we can go further and end hunger \\nand malnutrition once and for all. That means doing things such as \\npromoting sustainable agriculture and supporting small farmers. It’s a tall \\norder. But for the sake of the nearly 1 out of every 9 people on earth who \\ngo to bed hungry every night, we’ve got to try. Imagine a world where \\neveryone has access to sufficient and nutritious food all year round. \\nTogether, we can make that a reality by 2030.ENSURE HEAL THY LIVES AND PROMOTE \\nWELL-BEING FOR ALL AT ALL AGES\\nWe all know how important it is to be in good health. Our health affects \\neverything from how much we enjoy life to what work we can perform. \\nThat’s why there’s a Goal to make sure everyone has health coverage \\nand access to safe and effective medicines and vaccines. In the 25 \\nyears before the SDGs, we made big strides—preventable child deaths \\ndropped by more than half, and maternal mortality went down by \\nalmost as much. And yet some other numbers remain tragically high, like \\nthe fact that 6 million children die every year before their fifth birthday, \\nor that AIDS is the leading cause of death for adolescents in sub-Saharan \\nAfrica. We have the means to turn that around and make good health \\nmore than just a wish.ENSURE INCLUSIVE AND EQUITABLE QUALITY \\nEDUCATION AND PROMOTE LIFELONG \\nLEARNING OPPORTUNITIES FOR ALL \\nFirst, the bad news on education. Poverty, armed conflict and other \\nemergencies keep many, many kids around the world out of school. In \\nfact, kids from the poorest households are four times more likely to be \\nout of school than those of the richest households. Now for some good \\nnews. Since 2000, there has been enormous progress on the goal to \\nprovide primary education to all children worldwide: the total enrolment \\nrate in developing regions has reached 91%. By measures in any school, \\nthat’s a good grade. Now, let’s get an even better grade for all kids, \\nand achieve the goal of universal primary and secondary education, \\naffordable vocational training, access to higher education and more.We can celebrate the great progress the world has made in becoming \\nmore prosperous and fair. But there’s a shadow to the celebration. In \\njust about every way, women and girls lag behind. There are still gross \\ninequalities in work and wages, lots of unpaid “women’s work” such as \\nchild care and domestic work, and discrimination in public decision-\\nmaking. But there are grounds for hope. More girls are in school now \\ncompared to in 2000. Most regions have reached gender parity in \\nprimary education. The percentage of women getting paid for their work \\nis on the rise. The Sustainable Development Goals aim to build on these \\nachievements to ensure that there is an end to discrimination against \\nwomen and girls everywhere.\\nACHIEVE GENDER EQUALITY AND \\nEMPOWER ALL WOMEN AND GIRLSEveryone on earth should have access to safe and affordable drinking \\nwater. That’s the goal for 2030. While many people take clean drinking \\nwater and sanitation for granted, many others don’t. Water scarcity \\naffects more than 40 percent of people around the world, and that \\nnumber is projected to go even higher as a result of climate change. \\nIf we continue the path we’re on, by 2050 at least one in four people \\nare likely to be affected by recurring water shortages. But we can take \\na new path—more international cooperation, protecting wetlands \\nand rivers, sharing water-treatment technologies—that leads to \\naccomplishing this Goal. \\nENSURE AVAILABILITY AND SUSTAINABLE \\nMANAGEMENT OF WATER AND SANITATION \\nFOR ALLENSURE ACCESS TO AFFORDABLE, RELIABLE, \\nSUSTAINABLE AND MODERN ENERGY FOR \\nALL \\nBetween 1990 and 2010, the number of people with access to electricity \\nincreased by 1.7 billion. That’s progress to be proud of. And yet as the \\nworld’s population continues to rise, still more people will need cheap \\nenergy to light their homes and streets, use phones and computers, \\nand do their everyday business. How we get that energy is at issue; fossil \\nfuels and greenhouse gas emissions are making drastic changes in the \\nclimate, leading to big problems on every continent. Instead, we can \\nbecome more energy-efficient and invest in clean energy sources such \\nas solar and wind. That way we’ll meet electricity needs and protect the \\nenvironment. How’s that for a balancing act?PROMOTE SUSTAINED, INCLUSIVE AND \\nSUSTAINABLE ECONOMIC GROWTH, FULL \\nAND PRODUCTIVE EMPLOYMENT AND \\nDECENT WORK FOR ALL \\nAn important part of economic growth is that people have jobs that \\npay enough to support themselves and their families. The good news \\nis that the middle class is growing worldwide—almost tripling in size \\nin developing countries in the last 25 years, to more than a third of the \\npopulation. But today, job growth is not keeping pace with the growing \\nlabour force. Things don’t have to be that way. We can promote policies \\nthat encourage entrepreneurship and job creation. We can eradicate \\nforced labour, slavery and human trafficking. And in the end we can \\nachieve the goal of decent work for all women and men by 2030.BUILD RESILIENT INFRASTRUCTURE, \\nPROMOTE INCLUSIVE AND SUSTAINABLE \\nINDUSTRIALIZATION AND FOSTER \\nINNOVATION \\nTechnological progress helps us address big global challenges such as \\ncreating jobs and becoming more energy efficient. For example, the \\nworld is becoming ever more interconnected and prosperous thanks to \\nthe internet. The more connected we are, the more we can all benefit \\nfrom the wisdom and contributions of people everywhere on earth.  And \\nyet four billion people have no way of getting online, the vast majority \\nof them in developing countries. The more we invest in innovation \\nand infrastructure, the better off we’ll all be. Bridging the digital divide, \\npromoting sustainable industries, and investing in scientific research and \\ninnovation are all important ways to facilitate sustainable development.REDUCE INEQUALITY WITHIN AND AMONG \\nCOUNTRIES \\nIt’s an old story: the rich get richer, and the poor get poorer. The divide \\nhas never been starker. We can and must adopt policies that create \\nopportunity for everyone, regardless of who they are or where they \\ncome from. Income inequality is a global problem that requires global \\nsolutions. That means improving the regulation of financial markets \\nand institutions, sending development aid where it is most needed \\nand helping people migrate safely so they can pursue opportunities. \\nTogether, we can now change the direction of the old story of inequality.MAKE CITIES AND HUMAN SETTLEMENTS \\nINCLUSIVE, SAFE, RESILIENT AND \\nSUSTAINABLE \\nIf you’re like most people, you live in a city. More than half the world’s \\npopulation now lives in cities, and that figure will go to about two-thirds \\nof humanity by the year 2050. Cities are getting bigger. In 1990 there \\nwere ten “mega-cities” with 10 million inhabitants or more. In 2014, there \\nwere 28 mega-cities, home to 453 million people. Incredible, huh? A lot \\nof people love cities; they’re centers of culture and business and life. The \\nthing is, they’re also often centers of extreme poverty. To make cities \\nsustainable for all, we can create good, affordable public housing. We \\ncan upgrade slum settlements. We can invest in public transport, create \\ngreen spaces, and get a broader range of people involved in urban \\nplanning decisions. That way, we can keep the things we love about \\ncities, and change the things we don’t.ENSURE SUSTAINABLE CONSUMPTION AND \\nPRODUCTION PATTERNS\\nSome people use a lot of stuff, and some people use very little—in fact, \\na big share of the world population is consuming too little to meet even \\ntheir basic needs. Instead, we can have a world where everybody gets \\nwhat they need to survive and thrive. And we can consume in a way \\nthat preserves our natural resources so that our children can enjoy them, \\nand their children and their children after that. The hard part is how to \\nachieve that goal. We can manage our natural resources more efficiently \\nand dispose of toxic waste better. Cut per capita food waste in half \\nglobally. Get businesses and consumers to reduce and recycle waste. \\nAnd help countries that have typically not consumed a lot to move \\ntowards more responsible consumption patterns.TAKE URGENT ACTION TO COMBAT CLIMATE \\nCHANGE AND ITS IMPACTS\\nEvery country in the world is seeing the drastic effects of climate \\nchange, some more than others. On average, the annual losses just \\nfrom earthquakes, tsunamis, tropical cyclones and flooding count in the \\nhundreds of billions of dollars. We can reduce the loss of life and property \\nby helping more vulnerable regions—such as land-locked countries \\nand island states—become more resilient. It is still possible, with the \\npolitical will and technological measures, to limit the increase in global \\nmean temperature to two degrees Celsius above pre-industrial levels—\\nand thus avoid the worst effects of climate change. The Sustainable \\nDevelopment Goals lay out a way for countries to work together to meet \\nthis urgent challenge.CONSERVE AND SUSTAINABLY USE THE \\nOCEANS, SEAS AND MARINE RESOURCES \\nFOR SUSTAINABLE DEVELOPMENT\\nThe oceans make human life possible. Their temperature, their chemistry, \\ntheir currents, their life forms. For one thing, more than 3 billion people \\ndepend on marine and coastal diversity for their livelihoods. But today \\nwe are seeing nearly a third of the world’s fish stocks overexploited. \\nThat’s not a sustainable way of life. Even people who live nowhere near \\nthe ocean can’t live without it. Oceans absorb about 30 percent of the \\ncarbon dioxide that humans produce; but we’re producing more carbon \\ndioxide than ever before and that makes the oceans more acidic—26% \\nmore, since the start of the industrial revolution. Our trash doesn’t help \\neither—13,000 pieces of plastic litter on every square kilometer of ocean. \\nSounds bad, right? Don’t despair! The Sustainable Development Goals \\nindicate targets for managing and protecting life below water.PROTECT, RESTORE AND PROMOTE \\nSUSTAINABLE USE OF TERRESTRIAL \\nECOSYSTEMS, SUSTAINABLY MANAGE \\nFORESTS, COMBAT DESERTIFICATION, AND \\nHAL T AND REVERSE LAND DEGRADATION \\nAND HAL T BIODIVERSITY LOSS \\nHumans and other animals rely on other forms of life on land for food, \\nclean air, clean water, and as a means of combatting climate change. \\nPlant life makes up 80% of the human diet. Forests, which cover 30% \\nof the Earth’s surface, help keep the air and water clean and the Earth’s \\nclimate in balance. That’s not to mention they’re home to millions of \\nanimal species. But the land and life on it are in trouble. Arable land \\nis disappearing 30 to 35 times faster than it has historically. Deserts \\nare spreading. Animal breeds are going extinct. We can turn these \\ntrends around. Fortunately, the Sustainable Development Goals aim to \\nconserve and restore the use of terrestrial ecosystems such as forests, \\nwetlands, drylands and mountains by 2030.PROMOTE PEACEFUL AND INCLUSIVE \\nSOCIETIES FOR SUSTAINABLE \\nDEVELOPMENT, PROVIDE ACCESS TO \\nJUSTICE FOR ALL AND BUILD EFFECTIVE, \\nACCOUNTABLE AND INCLUSIVE \\nINSTITUTIONS AT ALL LEVELS \\nHow can a country develop—how can people eat and teach and learn \\nand work and raise families—without peace? And how can a country \\nhave peace without justice, without human rights, without government \\nbased on the rule of law? Some parts of the world enjoy relative peace \\nand justice, and may come to take it for granted. Other parts seem to \\nbe plagued by armed conflict, crime, torture and exploitation, all of \\nwhich hinders their development. The goal of peace and justice is one \\nfor all countries to strive towards. The Sustainable Development Goals \\naim to reduce all forms of violence and propose that governments \\nand communities find lasting solutions to conflict and insecurity. That \\nmeans strengthening the rule of law, reducing the flow of illicit arms, \\nand bringing developing countries more into the center of institutions \\nof global governance.STRENGTHEN THE MEANS OF \\nIMPLEMENTATION AND REVITALIZE THE \\nGLOBAL PARTNERSHIP FOR SUSTAINABLE \\nDEVELOPMENT \\nThe Sustainable Development Goals are pretty big to-do list, don’t you \\nthink? In fact, it’s so big, you may just want to throw your hands up in the \\nair. “Forget it! Can’t be done! Why even try!” But we’ve got a lot going for \\nus. The world is more interconnected today than ever before, thanks to \\nthe internet, travel and global institutions. There’s a growing consensus \\nabout the need to work together to stop climate change. And the \\nSustainable Development Goals are no small matter either. 193 countries \\nagreed on these goals. Pretty incredible, isn’t it? 193 countries agreeing \\non anything? The final goal lays out a way for nations to work together to \\nachieve all the other Goals.Go shopping \\nMake a donation \\nStart a fundraiser \\nSpread the word \\nVisit shop.undp.org for SDG merchandise, and show off the goals you’re \\nmost passionate about. \\nMoney doesn’t just make the world go around; it’s also the most direct \\nway to reduce and eradicate all forms of poverty.\\nFundraising is a great way to raise money, create awareness, and inspire \\nothers. Plus, it’s fun!\\nSearch for @UNDP on Twitter, Facebook and Instagram, and share the \\ncontent you love.\\nTo donate or learn more about fundraising, visit undp.org/takeaction\\nThere are many ways to show your support and help us reach \\nthe Sustainable Development Goals by 2030. Here are a few :\\nWHA T CAN  \\nI DO TO HELP?NOTESNOTES'"
      ]
     },
     "execution_count": 13,
     "metadata": {},
     "output_type": "execute_result"
    }
   ],
   "source": [
    "question_gen"
   ]
  },
  {
   "cell_type": "markdown",
   "id": "004418e9",
   "metadata": {},
   "source": [
    "*Import required Library* <br>\n",
    "- AutoTokenizer (from Hugging Face) automatically loads the correct tokenizer based on a model name.\n",
    "- TokenTextSplitter (from LangChain) splits long texts into manageable chunks based on tokens, which is important for LLMs with context/token limits.\n"
   ]
  },
  {
   "cell_type": "code",
   "execution_count": 14,
   "id": "34f200f0",
   "metadata": {},
   "outputs": [
    {
     "name": "stderr",
     "output_type": "stream",
     "text": [
      "c:\\Users\\HP\\anaconda3\\envs\\QAgenerator\\Lib\\site-packages\\tqdm\\auto.py:21: TqdmWarning: IProgress not found. Please update jupyter and ipywidgets. See https://ipywidgets.readthedocs.io/en/stable/user_install.html\n",
      "  from .autonotebook import tqdm as notebook_tqdm\n"
     ]
    }
   ],
   "source": [
    "from transformers import AutoTokenizer\n",
    "from langchain.text_splitter import TokenTextSplitter"
   ]
  },
  {
   "cell_type": "markdown",
   "id": "2dec70ae",
   "metadata": {},
   "source": [
    "- Loads the tokenizer for the Mistral 7B Instruct model from Hugging Face.\n",
    "- This tokenizer understands how Mistral breaks down input text into tokens.\n",
    "- It requires internet access the first time and downloads the tokenizer files to your local machine"
   ]
  },
  {
   "cell_type": "code",
   "execution_count": 15,
   "id": "81a1ef40",
   "metadata": {},
   "outputs": [],
   "source": [
    "# Load Mistral tokenizer from Hugging Face\n",
    "tokenizer = AutoTokenizer.from_pretrained(\n",
    "    \"mistralai/Mistral-7B-Instruct-v0.1\",\n",
    "    use_fast=False\n",
    "    )"
   ]
  },
  {
   "cell_type": "markdown",
   "id": "911f9b1c",
   "metadata": {},
   "source": [
    "-  tokenizer=tokenizer, means you're passing a variable named tokenizer as a parameter named tokenizer.\n",
    "- chunk_size=10000: Each chunk will have up to 10,000 tokens.\n",
    "- chunk_overlap=200: 200 tokens overlap between chunks to preserve context."
   ]
  },
  {
   "cell_type": "code",
   "execution_count": 16,
   "id": "3f62c496",
   "metadata": {},
   "outputs": [],
   "source": [
    "splitter_ques_gen = TokenTextSplitter.from_huggingface_tokenizer(\n",
    "    tokenizer = tokenizer,\n",
    "    chunk_size = 10000,\n",
    "    chunk_overlap = 200\n",
    ")"
   ]
  },
  {
   "cell_type": "code",
   "execution_count": 17,
   "id": "9d118e3b",
   "metadata": {},
   "outputs": [],
   "source": [
    "chunk_ques_gen = splitter_ques_gen.split_text(question_gen)"
   ]
  },
  {
   "cell_type": "code",
   "execution_count": 18,
   "id": "fe170bc3",
   "metadata": {},
   "outputs": [
    {
     "data": {
      "text/plain": [
       "['IN THE YEAR 2015, LEADERS FROM 193 COUNTRIES OF THE WORLD \\nCAME TOGETHER TO FACE THE FUTURE.\\nAnd what they saw was daunting. Famines. Drought. Wars. Plagues. Poverty. \\nNot just in some faraway place, but in their own cities and towns and villages.\\nThey knew things didn’t have to be this way. They knew we had enough \\nfood to feed the world, but that it wasn’t getting shared. They knew there \\nwere medicines for HIV and other diseases, but they cost a lot. They knew \\nthat earthquakes and floods were inevitable, but that the high death \\ntolls were not. \\nThey also knew that billions of people worldwide shared their hope for a \\nbetter future.\\nSo leaders from these countries created a plan called the Sustainable \\nDevelopment Goals (SDGs). This set of 17 goals imagines a future just 15 years \\noff that would be rid of poverty and hunger, and safe from the worst effects of \\nclimate change. It’s an ambitious plan. \\nBut there’s ample evidence that we can succeed. In the past 15 years, the \\ninternational community cut extreme poverty in half. \\nNow we can finish the job.\\nThe United Nations Development Programme (UNDP) is one of the leading \\norganizations working to fulfil the SDGs by the year 2030. Present in nearly \\n170 countries and territories, we help nations make the Goals a reality. \\nWe also champion the Goals so that people everywhere know how to \\ndo their part. \\nUNDP is proud to continue as a leader in this global movement.\\nLearn about the Sustainable Development Goals.  What’s your Goal?END EXTREME POVERTY IN ALL FORMS  \\nBY 2030.\\nYes, it’s an ambitious goal—but we believe it can be done. In 2000, the \\nworld committed to halving the number of people living in extreme \\npoverty by the year 2015 and we met this goal. However, more than \\n800 million people around the world still live on less than $1.25 a day—\\nthat’s about the equivalent of the entire population of Europe living in \\nextreme poverty. Now it’s time to build on what we learned and end \\npoverty altogether.END HUNGER, ACHIEVE FOOD SECURITY \\nAND IMPROVED NUTRITION AND PROMOTE \\nSUSTAINABLE AGRICUL TURE\\nIn the past 20 years, hunger has dropped by almost half. Many \\ncountries that used to suffer from famine and hunger can now \\nmeet the nutritional needs of their most vulnerable people. It’s an \\nincredible accomplishment. Now we can go further and end hunger \\nand malnutrition once and for all. That means doing things such as \\npromoting sustainable agriculture and supporting small farmers. It’s a tall \\norder. But for the sake of the nearly 1 out of every 9 people on earth who \\ngo to bed hungry every night, we’ve got to try. Imagine a world where \\neveryone has access to sufficient and nutritious food all year round. \\nTogether, we can make that a reality by 2030.ENSURE HEAL THY LIVES AND PROMOTE \\nWELL-BEING FOR ALL AT ALL AGES\\nWe all know how important it is to be in good health. Our health affects \\neverything from how much we enjoy life to what work we can perform. \\nThat’s why there’s a Goal to make sure everyone has health coverage \\nand access to safe and effective medicines and vaccines. In the 25 \\nyears before the SDGs, we made big strides—preventable child deaths \\ndropped by more than half, and maternal mortality went down by \\nalmost as much. And yet some other numbers remain tragically high, like \\nthe fact that 6 million children die every year before their fifth birthday, \\nor that AIDS is the leading cause of death for adolescents in sub-Saharan \\nAfrica. We have the means to turn that around and make good health \\nmore than just a wish.ENSURE INCLUSIVE AND EQUITABLE QUALITY \\nEDUCATION AND PROMOTE LIFELONG \\nLEARNING OPPORTUNITIES FOR ALL \\nFirst, the bad news on education. Poverty, armed conflict and other \\nemergencies keep many, many kids around the world out of school. In \\nfact, kids from the poorest households are four times more likely to be \\nout of school than those of the richest households. Now for some good \\nnews. Since 2000, there has been enormous progress on the goal to \\nprovide primary education to all children worldwide: the total enrolment \\nrate in developing regions has reached 91%. By measures in any school, \\nthat’s a good grade. Now, let’s get an even better grade for all kids, \\nand achieve the goal of universal primary and secondary education, \\naffordable vocational training, access to higher education and more.We can celebrate the great progress the world has made in becoming \\nmore prosperous and fair. But there’s a shadow to the celebration. In \\njust about every way, women and girls lag behind. There are still gross \\ninequalities in work and wages, lots of unpaid “women’s work” such as \\nchild care and domestic work, and discrimination in public decision-\\nmaking. But there are grounds for hope. More girls are in school now \\ncompared to in 2000. Most regions have reached gender parity in \\nprimary education. The percentage of women getting paid for their work \\nis on the rise. The Sustainable Development Goals aim to build on these \\nachievements to ensure that there is an end to discrimination against \\nwomen and girls everywhere.\\nACHIEVE GENDER EQUALITY AND \\nEMPOWER ALL WOMEN AND GIRLSEveryone on earth should have access to safe and affordable drinking \\nwater. That’s the goal for 2030. While many people take clean drinking \\nwater and sanitation for granted, many others don’t. Water scarcity \\naffects more than 40 percent of people around the world, and that \\nnumber is projected to go even higher as a result of climate change. \\nIf we continue the path we’re on, by 2050 at least one in four people \\nare likely to be affected by recurring water shortages. But we can take \\na new path—more international cooperation, protecting wetlands \\nand rivers, sharing water-treatment technologies—that leads to \\naccomplishing this Goal. \\nENSURE AVAILABILITY AND SUSTAINABLE \\nMANAGEMENT OF WATER AND SANITATION \\nFOR ALLENSURE ACCESS TO AFFORDABLE, RELIABLE, \\nSUSTAINABLE AND MODERN ENERGY FOR \\nALL \\nBetween 1990 and 2010, the number of people with access to electricity \\nincreased by 1.7 billion. That’s progress to be proud of. And yet as the \\nworld’s population continues to rise, still more people will need cheap \\nenergy to light their homes and streets, use phones and computers, \\nand do their everyday business. How we get that energy is at issue; fossil \\nfuels and greenhouse gas emissions are making drastic changes in the \\nclimate, leading to big problems on every continent. Instead, we can \\nbecome more energy-efficient and invest in clean energy sources such \\nas solar and wind. That way we’ll meet electricity needs and protect the \\nenvironment. How’s that for a balancing act?PROMOTE SUSTAINED, INCLUSIVE AND \\nSUSTAINABLE ECONOMIC GROWTH, FULL \\nAND PRODUCTIVE EMPLOYMENT AND \\nDECENT WORK FOR ALL \\nAn important part of economic growth is that people have jobs that \\npay enough to support themselves and their families. The good news \\nis that the middle class is growing worldwide—almost tripling in size \\nin developing countries in the last 25 years, to more than a third of the \\npopulation. But today, job growth is not keeping pace with the growing \\nlabour force. Things don’t have to be that way. We can promote policies \\nthat encourage entrepreneurship and job creation. We can eradicate \\nforced labour, slavery and human trafficking. And in the end we can \\nachieve the goal of decent work for all women and men by 2030.BUILD RESILIENT INFRASTRUCTURE, \\nPROMOTE INCLUSIVE AND SUSTAINABLE \\nINDUSTRIALIZATION AND FOSTER \\nINNOVATION \\nTechnological progress helps us address big global challenges such as \\ncreating jobs and becoming more energy efficient. For example, the \\nworld is becoming ever more interconnected and prosperous thanks to \\nthe internet. The more connected we are, the more we can all benefit \\nfrom the wisdom and contributions of people everywhere on earth.  And \\nyet four billion people have no way of getting online, the vast majority \\nof them in developing countries. The more we invest in innovation \\nand infrastructure, the better off we’ll all be. Bridging the digital divide, \\npromoting sustainable industries, and investing in scientific research and \\ninnovation are all important ways to facilitate sustainable development.REDUCE INEQUALITY WITHIN AND AMONG \\nCOUNTRIES \\nIt’s an old story: the rich get richer, and the poor get poorer. The divide \\nhas never been starker. We can and must adopt policies that create \\nopportunity for everyone, regardless of who they are or where they \\ncome from. Income inequality is a global problem that requires global \\nsolutions. That means improving the regulation of financial markets \\nand institutions, sending development aid where it is most needed \\nand helping people migrate safely so they can pursue opportunities. \\nTogether, we can now change the direction of the old story of inequality.MAKE CITIES AND HUMAN SETTLEMENTS \\nINCLUSIVE, SAFE, RESILIENT AND \\nSUSTAINABLE \\nIf you’re like most people, you live in a city. More than half the world’s \\npopulation now lives in cities, and that figure will go to about two-thirds \\nof humanity by the year 2050. Cities are getting bigger. In 1990 there \\nwere ten “mega-cities” with 10 million inhabitants or more. In 2014, there \\nwere 28 mega-cities, home to 453 million people. Incredible, huh? A lot \\nof people love cities; they’re centers of culture and business and life. The \\nthing is, they’re also often centers of extreme poverty. To make cities \\nsustainable for all, we can create good, affordable public housing. We \\ncan upgrade slum settlements. We can invest in public transport, create \\ngreen spaces, and get a broader range of people involved in urban \\nplanning decisions. That way, we can keep the things we love about \\ncities, and change the things we don’t.ENSURE SUSTAINABLE CONSUMPTION AND \\nPRODUCTION PATTERNS\\nSome people use a lot of stuff, and some people use very little—in fact, \\na big share of the world population is consuming too little to meet even \\ntheir basic needs. Instead, we can have a world where everybody gets \\nwhat they need to survive and thrive. And we can consume in a way \\nthat preserves our natural resources so that our children can enjoy them, \\nand their children and their children after that. The hard part is how to \\nachieve that goal. We can manage our natural resources more efficiently \\nand dispose of toxic waste better. Cut per capita food waste in half \\nglobally. Get businesses and consumers to reduce and recycle waste. \\nAnd help countries that have typically not consumed a lot to move \\ntowards more responsible consumption patterns.TAKE URGENT ACTION TO COMBAT CLIMATE \\nCHANGE AND ITS IMPACTS\\nEvery country in the world is seeing the drastic effects of climate \\nchange, some more than others. On average, the annual losses just \\nfrom earthquakes, tsunamis, tropical cyclones and flooding count in the \\nhundreds of billions of dollars. We can reduce the loss of life and property \\nby helping more vulnerable regions—such as land-locked countries \\nand island states—become more resilient. It is still possible, with the \\npolitical will and technological measures, to limit the increase in global \\nmean temperature to two degrees Celsius above pre-industrial levels—\\nand thus avoid the worst effects of climate change. The Sustainable \\nDevelopment Goals lay out a way for countries to work together to meet \\nthis urgent challenge.CONSERVE AND SUSTAINABLY USE THE \\nOCEANS, SEAS AND MARINE RESOURCES \\nFOR SUSTAINABLE DEVELOPMENT\\nThe oceans make human life possible. Their temperature, their chemistry, \\ntheir currents, their life forms. For one thing, more than 3 billion people \\ndepend on marine and coastal diversity for their livelihoods. But today \\nwe are seeing nearly a third of the world’s fish stocks overexploited. \\nThat’s not a sustainable way of life. Even people who live nowhere near \\nthe ocean can’t live without it. Oceans absorb about 30 percent of the \\ncarbon dioxide that humans produce; but we’re producing more carbon \\ndioxide than ever before and that makes the oceans more acidic—26% \\nmore, since the start of the industrial revolution. Our trash doesn’t help \\neither—13,000 pieces of plastic litter on every square kilometer of ocean. \\nSounds bad, right? Don’t despair! The Sustainable Development Goals \\nindicate targets for managing and protecting life below water.PROTECT, RESTORE AND PROMOTE \\nSUSTAINABLE USE OF TERRESTRIAL \\nECOSYSTEMS, SUSTAINABLY MANAGE \\nFORESTS, COMBAT DESERTIFICATION, AND \\nHAL T AND REVERSE LAND DEGRADATION \\nAND HAL T BIODIVERSITY LOSS \\nHumans and other animals rely on other forms of life on land for food, \\nclean air, clean water, and as a means of combatting climate change. \\nPlant life makes up 80% of the human diet. Forests, which cover 30% \\nof the Earth’s surface, help keep the air and water clean and the Earth’s \\nclimate in balance. That’s not to mention they’re home to millions of \\nanimal species. But the land and life on it are in trouble. Arable land \\nis disappearing 30 to 35 times faster than it has historically. Deserts \\nare spreading. Animal breeds are going extinct. We can turn these \\ntrends around. Fortunately, the Sustainable Development Goals aim to \\nconserve and restore the use of terrestrial ecosystems such as forests, \\nwetlands, drylands and mountains by 2030.PROMOTE PEACEFUL AND INCLUSIVE \\nSOCIETIES FOR SUSTAINABLE \\nDEVELOPMENT, PROVIDE ACCESS TO \\nJUSTICE FOR ALL AND BUILD EFFECTIVE, \\nACCOUNTABLE AND INCLUSIVE \\nINSTITUTIONS AT ALL LEVELS \\nHow can a country develop—how can people eat and teach and learn \\nand work and raise families—without peace? And how can a country \\nhave peace without justice, without human rights, without government \\nbased on the rule of law? Some parts of the world enjoy relative peace \\nand justice, and may come to take it for granted. Other parts seem to \\nbe plagued by armed conflict, crime, torture and exploitation, all of \\nwhich hinders their development. The goal of peace and justice is one \\nfor all countries to strive towards. The Sustainable Development Goals \\naim to reduce all forms of violence and propose that governments \\nand communities find lasting solutions to conflict and insecurity. That \\nmeans strengthening the rule of law, reducing the flow of illicit arms, \\nand bringing developing countries more into the center of institutions \\nof global governance.STRENGTHEN THE MEANS OF \\nIMPLEMENTATION AND REVITALIZE THE \\nGLOBAL PARTNERSHIP FOR SUSTAINABLE \\nDEVELOPMENT \\nThe Sustainable Development Goals are pretty big to-do list, don’t you \\nthink? In fact, it’s so big, you may just want to throw your hands up in the \\nair. “Forget it! Can’t be done! Why even try!” But we’ve got a lot going for \\nus. The world is more interconnected today than ever before, thanks to \\nthe internet, travel and global institutions. There’s a growing consensus \\nabout the need to work together to stop climate change. And the \\nSustainable Development Goals are no small matter either. 193 countries \\nagreed on these goals. Pretty incredible, isn’t it? 193 countries agreeing \\non anything? The final goal lays out a way for nations to work together to \\nachieve all the other Goals.Go shopping \\nMake a donation \\nStart a fundraiser \\nSpread the word \\nVisit shop.undp.org for SDG merchandise, and show off the goals you’re \\nmost passionate about. \\nMoney doesn’t just make the world go around; it’s also the most direct \\nway to reduce and eradicate all forms of poverty.\\nFundraising is a great way to raise money, create awareness, and inspire \\nothers. Plus, it’s fun!\\nSearch for @UNDP on Twitter, Facebook and Instagram, and share the \\ncontent you love.\\nTo donate or learn more about fundraising, visit undp.org/takeaction\\nThere are many ways to show your support and help us reach \\nthe Sustainable Development Goals by 2030. Here are a few :\\nWHA T CAN  \\nI DO TO HELP?NOTESNOTES']"
      ]
     },
     "execution_count": 18,
     "metadata": {},
     "output_type": "execute_result"
    }
   ],
   "source": [
    "chunk_ques_gen"
   ]
  },
  {
   "cell_type": "code",
   "execution_count": 19,
   "id": "cf2fc4f1",
   "metadata": {},
   "outputs": [
    {
     "data": {
      "text/plain": [
       "1"
      ]
     },
     "execution_count": 19,
     "metadata": {},
     "output_type": "execute_result"
    }
   ],
   "source": [
    "len(chunk_ques_gen)"
   ]
  },
  {
   "cell_type": "code",
   "execution_count": 20,
   "id": "4c214055",
   "metadata": {},
   "outputs": [
    {
     "data": {
      "text/plain": [
       "str"
      ]
     },
     "execution_count": 20,
     "metadata": {},
     "output_type": "execute_result"
    }
   ],
   "source": [
    "type(chunk_ques_gen[0])"
   ]
  },
  {
   "cell_type": "markdown",
   "id": "b8c8899d",
   "metadata": {},
   "source": [
    "*Now we will rechunk* <br>\n",
    "Our document may large, hence we will rechunk the chunked document.\n",
    "Since chunk contain string, so we have to convert it into document"
   ]
  },
  {
   "cell_type": "code",
   "execution_count": 21,
   "id": "929ca7ca",
   "metadata": {},
   "outputs": [],
   "source": [
    "from langchain.docstore.document import Document"
   ]
  },
  {
   "cell_type": "code",
   "execution_count": 22,
   "id": "3ff67708",
   "metadata": {},
   "outputs": [],
   "source": [
    "document_ques_gen = [Document(page_content=t) for t in chunk_ques_gen]"
   ]
  },
  {
   "cell_type": "code",
   "execution_count": 23,
   "id": "bf25a550",
   "metadata": {},
   "outputs": [
    {
     "data": {
      "text/plain": [
       "[Document(metadata={}, page_content='IN THE YEAR 2015, LEADERS FROM 193 COUNTRIES OF THE WORLD \\nCAME TOGETHER TO FACE THE FUTURE.\\nAnd what they saw was daunting. Famines. Drought. Wars. Plagues. Poverty. \\nNot just in some faraway place, but in their own cities and towns and villages.\\nThey knew things didn’t have to be this way. They knew we had enough \\nfood to feed the world, but that it wasn’t getting shared. They knew there \\nwere medicines for HIV and other diseases, but they cost a lot. They knew \\nthat earthquakes and floods were inevitable, but that the high death \\ntolls were not. \\nThey also knew that billions of people worldwide shared their hope for a \\nbetter future.\\nSo leaders from these countries created a plan called the Sustainable \\nDevelopment Goals (SDGs). This set of 17 goals imagines a future just 15 years \\noff that would be rid of poverty and hunger, and safe from the worst effects of \\nclimate change. It’s an ambitious plan. \\nBut there’s ample evidence that we can succeed. In the past 15 years, the \\ninternational community cut extreme poverty in half. \\nNow we can finish the job.\\nThe United Nations Development Programme (UNDP) is one of the leading \\norganizations working to fulfil the SDGs by the year 2030. Present in nearly \\n170 countries and territories, we help nations make the Goals a reality. \\nWe also champion the Goals so that people everywhere know how to \\ndo their part. \\nUNDP is proud to continue as a leader in this global movement.\\nLearn about the Sustainable Development Goals.  What’s your Goal?END EXTREME POVERTY IN ALL FORMS  \\nBY 2030.\\nYes, it’s an ambitious goal—but we believe it can be done. In 2000, the \\nworld committed to halving the number of people living in extreme \\npoverty by the year 2015 and we met this goal. However, more than \\n800 million people around the world still live on less than $1.25 a day—\\nthat’s about the equivalent of the entire population of Europe living in \\nextreme poverty. Now it’s time to build on what we learned and end \\npoverty altogether.END HUNGER, ACHIEVE FOOD SECURITY \\nAND IMPROVED NUTRITION AND PROMOTE \\nSUSTAINABLE AGRICUL TURE\\nIn the past 20 years, hunger has dropped by almost half. Many \\ncountries that used to suffer from famine and hunger can now \\nmeet the nutritional needs of their most vulnerable people. It’s an \\nincredible accomplishment. Now we can go further and end hunger \\nand malnutrition once and for all. That means doing things such as \\npromoting sustainable agriculture and supporting small farmers. It’s a tall \\norder. But for the sake of the nearly 1 out of every 9 people on earth who \\ngo to bed hungry every night, we’ve got to try. Imagine a world where \\neveryone has access to sufficient and nutritious food all year round. \\nTogether, we can make that a reality by 2030.ENSURE HEAL THY LIVES AND PROMOTE \\nWELL-BEING FOR ALL AT ALL AGES\\nWe all know how important it is to be in good health. Our health affects \\neverything from how much we enjoy life to what work we can perform. \\nThat’s why there’s a Goal to make sure everyone has health coverage \\nand access to safe and effective medicines and vaccines. In the 25 \\nyears before the SDGs, we made big strides—preventable child deaths \\ndropped by more than half, and maternal mortality went down by \\nalmost as much. And yet some other numbers remain tragically high, like \\nthe fact that 6 million children die every year before their fifth birthday, \\nor that AIDS is the leading cause of death for adolescents in sub-Saharan \\nAfrica. We have the means to turn that around and make good health \\nmore than just a wish.ENSURE INCLUSIVE AND EQUITABLE QUALITY \\nEDUCATION AND PROMOTE LIFELONG \\nLEARNING OPPORTUNITIES FOR ALL \\nFirst, the bad news on education. Poverty, armed conflict and other \\nemergencies keep many, many kids around the world out of school. In \\nfact, kids from the poorest households are four times more likely to be \\nout of school than those of the richest households. Now for some good \\nnews. Since 2000, there has been enormous progress on the goal to \\nprovide primary education to all children worldwide: the total enrolment \\nrate in developing regions has reached 91%. By measures in any school, \\nthat’s a good grade. Now, let’s get an even better grade for all kids, \\nand achieve the goal of universal primary and secondary education, \\naffordable vocational training, access to higher education and more.We can celebrate the great progress the world has made in becoming \\nmore prosperous and fair. But there’s a shadow to the celebration. In \\njust about every way, women and girls lag behind. There are still gross \\ninequalities in work and wages, lots of unpaid “women’s work” such as \\nchild care and domestic work, and discrimination in public decision-\\nmaking. But there are grounds for hope. More girls are in school now \\ncompared to in 2000. Most regions have reached gender parity in \\nprimary education. The percentage of women getting paid for their work \\nis on the rise. The Sustainable Development Goals aim to build on these \\nachievements to ensure that there is an end to discrimination against \\nwomen and girls everywhere.\\nACHIEVE GENDER EQUALITY AND \\nEMPOWER ALL WOMEN AND GIRLSEveryone on earth should have access to safe and affordable drinking \\nwater. That’s the goal for 2030. While many people take clean drinking \\nwater and sanitation for granted, many others don’t. Water scarcity \\naffects more than 40 percent of people around the world, and that \\nnumber is projected to go even higher as a result of climate change. \\nIf we continue the path we’re on, by 2050 at least one in four people \\nare likely to be affected by recurring water shortages. But we can take \\na new path—more international cooperation, protecting wetlands \\nand rivers, sharing water-treatment technologies—that leads to \\naccomplishing this Goal. \\nENSURE AVAILABILITY AND SUSTAINABLE \\nMANAGEMENT OF WATER AND SANITATION \\nFOR ALLENSURE ACCESS TO AFFORDABLE, RELIABLE, \\nSUSTAINABLE AND MODERN ENERGY FOR \\nALL \\nBetween 1990 and 2010, the number of people with access to electricity \\nincreased by 1.7 billion. That’s progress to be proud of. And yet as the \\nworld’s population continues to rise, still more people will need cheap \\nenergy to light their homes and streets, use phones and computers, \\nand do their everyday business. How we get that energy is at issue; fossil \\nfuels and greenhouse gas emissions are making drastic changes in the \\nclimate, leading to big problems on every continent. Instead, we can \\nbecome more energy-efficient and invest in clean energy sources such \\nas solar and wind. That way we’ll meet electricity needs and protect the \\nenvironment. How’s that for a balancing act?PROMOTE SUSTAINED, INCLUSIVE AND \\nSUSTAINABLE ECONOMIC GROWTH, FULL \\nAND PRODUCTIVE EMPLOYMENT AND \\nDECENT WORK FOR ALL \\nAn important part of economic growth is that people have jobs that \\npay enough to support themselves and their families. The good news \\nis that the middle class is growing worldwide—almost tripling in size \\nin developing countries in the last 25 years, to more than a third of the \\npopulation. But today, job growth is not keeping pace with the growing \\nlabour force. Things don’t have to be that way. We can promote policies \\nthat encourage entrepreneurship and job creation. We can eradicate \\nforced labour, slavery and human trafficking. And in the end we can \\nachieve the goal of decent work for all women and men by 2030.BUILD RESILIENT INFRASTRUCTURE, \\nPROMOTE INCLUSIVE AND SUSTAINABLE \\nINDUSTRIALIZATION AND FOSTER \\nINNOVATION \\nTechnological progress helps us address big global challenges such as \\ncreating jobs and becoming more energy efficient. For example, the \\nworld is becoming ever more interconnected and prosperous thanks to \\nthe internet. The more connected we are, the more we can all benefit \\nfrom the wisdom and contributions of people everywhere on earth.  And \\nyet four billion people have no way of getting online, the vast majority \\nof them in developing countries. The more we invest in innovation \\nand infrastructure, the better off we’ll all be. Bridging the digital divide, \\npromoting sustainable industries, and investing in scientific research and \\ninnovation are all important ways to facilitate sustainable development.REDUCE INEQUALITY WITHIN AND AMONG \\nCOUNTRIES \\nIt’s an old story: the rich get richer, and the poor get poorer. The divide \\nhas never been starker. We can and must adopt policies that create \\nopportunity for everyone, regardless of who they are or where they \\ncome from. Income inequality is a global problem that requires global \\nsolutions. That means improving the regulation of financial markets \\nand institutions, sending development aid where it is most needed \\nand helping people migrate safely so they can pursue opportunities. \\nTogether, we can now change the direction of the old story of inequality.MAKE CITIES AND HUMAN SETTLEMENTS \\nINCLUSIVE, SAFE, RESILIENT AND \\nSUSTAINABLE \\nIf you’re like most people, you live in a city. More than half the world’s \\npopulation now lives in cities, and that figure will go to about two-thirds \\nof humanity by the year 2050. Cities are getting bigger. In 1990 there \\nwere ten “mega-cities” with 10 million inhabitants or more. In 2014, there \\nwere 28 mega-cities, home to 453 million people. Incredible, huh? A lot \\nof people love cities; they’re centers of culture and business and life. The \\nthing is, they’re also often centers of extreme poverty. To make cities \\nsustainable for all, we can create good, affordable public housing. We \\ncan upgrade slum settlements. We can invest in public transport, create \\ngreen spaces, and get a broader range of people involved in urban \\nplanning decisions. That way, we can keep the things we love about \\ncities, and change the things we don’t.ENSURE SUSTAINABLE CONSUMPTION AND \\nPRODUCTION PATTERNS\\nSome people use a lot of stuff, and some people use very little—in fact, \\na big share of the world population is consuming too little to meet even \\ntheir basic needs. Instead, we can have a world where everybody gets \\nwhat they need to survive and thrive. And we can consume in a way \\nthat preserves our natural resources so that our children can enjoy them, \\nand their children and their children after that. The hard part is how to \\nachieve that goal. We can manage our natural resources more efficiently \\nand dispose of toxic waste better. Cut per capita food waste in half \\nglobally. Get businesses and consumers to reduce and recycle waste. \\nAnd help countries that have typically not consumed a lot to move \\ntowards more responsible consumption patterns.TAKE URGENT ACTION TO COMBAT CLIMATE \\nCHANGE AND ITS IMPACTS\\nEvery country in the world is seeing the drastic effects of climate \\nchange, some more than others. On average, the annual losses just \\nfrom earthquakes, tsunamis, tropical cyclones and flooding count in the \\nhundreds of billions of dollars. We can reduce the loss of life and property \\nby helping more vulnerable regions—such as land-locked countries \\nand island states—become more resilient. It is still possible, with the \\npolitical will and technological measures, to limit the increase in global \\nmean temperature to two degrees Celsius above pre-industrial levels—\\nand thus avoid the worst effects of climate change. The Sustainable \\nDevelopment Goals lay out a way for countries to work together to meet \\nthis urgent challenge.CONSERVE AND SUSTAINABLY USE THE \\nOCEANS, SEAS AND MARINE RESOURCES \\nFOR SUSTAINABLE DEVELOPMENT\\nThe oceans make human life possible. Their temperature, their chemistry, \\ntheir currents, their life forms. For one thing, more than 3 billion people \\ndepend on marine and coastal diversity for their livelihoods. But today \\nwe are seeing nearly a third of the world’s fish stocks overexploited. \\nThat’s not a sustainable way of life. Even people who live nowhere near \\nthe ocean can’t live without it. Oceans absorb about 30 percent of the \\ncarbon dioxide that humans produce; but we’re producing more carbon \\ndioxide than ever before and that makes the oceans more acidic—26% \\nmore, since the start of the industrial revolution. Our trash doesn’t help \\neither—13,000 pieces of plastic litter on every square kilometer of ocean. \\nSounds bad, right? Don’t despair! The Sustainable Development Goals \\nindicate targets for managing and protecting life below water.PROTECT, RESTORE AND PROMOTE \\nSUSTAINABLE USE OF TERRESTRIAL \\nECOSYSTEMS, SUSTAINABLY MANAGE \\nFORESTS, COMBAT DESERTIFICATION, AND \\nHAL T AND REVERSE LAND DEGRADATION \\nAND HAL T BIODIVERSITY LOSS \\nHumans and other animals rely on other forms of life on land for food, \\nclean air, clean water, and as a means of combatting climate change. \\nPlant life makes up 80% of the human diet. Forests, which cover 30% \\nof the Earth’s surface, help keep the air and water clean and the Earth’s \\nclimate in balance. That’s not to mention they’re home to millions of \\nanimal species. But the land and life on it are in trouble. Arable land \\nis disappearing 30 to 35 times faster than it has historically. Deserts \\nare spreading. Animal breeds are going extinct. We can turn these \\ntrends around. Fortunately, the Sustainable Development Goals aim to \\nconserve and restore the use of terrestrial ecosystems such as forests, \\nwetlands, drylands and mountains by 2030.PROMOTE PEACEFUL AND INCLUSIVE \\nSOCIETIES FOR SUSTAINABLE \\nDEVELOPMENT, PROVIDE ACCESS TO \\nJUSTICE FOR ALL AND BUILD EFFECTIVE, \\nACCOUNTABLE AND INCLUSIVE \\nINSTITUTIONS AT ALL LEVELS \\nHow can a country develop—how can people eat and teach and learn \\nand work and raise families—without peace? And how can a country \\nhave peace without justice, without human rights, without government \\nbased on the rule of law? Some parts of the world enjoy relative peace \\nand justice, and may come to take it for granted. Other parts seem to \\nbe plagued by armed conflict, crime, torture and exploitation, all of \\nwhich hinders their development. The goal of peace and justice is one \\nfor all countries to strive towards. The Sustainable Development Goals \\naim to reduce all forms of violence and propose that governments \\nand communities find lasting solutions to conflict and insecurity. That \\nmeans strengthening the rule of law, reducing the flow of illicit arms, \\nand bringing developing countries more into the center of institutions \\nof global governance.STRENGTHEN THE MEANS OF \\nIMPLEMENTATION AND REVITALIZE THE \\nGLOBAL PARTNERSHIP FOR SUSTAINABLE \\nDEVELOPMENT \\nThe Sustainable Development Goals are pretty big to-do list, don’t you \\nthink? In fact, it’s so big, you may just want to throw your hands up in the \\nair. “Forget it! Can’t be done! Why even try!” But we’ve got a lot going for \\nus. The world is more interconnected today than ever before, thanks to \\nthe internet, travel and global institutions. There’s a growing consensus \\nabout the need to work together to stop climate change. And the \\nSustainable Development Goals are no small matter either. 193 countries \\nagreed on these goals. Pretty incredible, isn’t it? 193 countries agreeing \\non anything? The final goal lays out a way for nations to work together to \\nachieve all the other Goals.Go shopping \\nMake a donation \\nStart a fundraiser \\nSpread the word \\nVisit shop.undp.org for SDG merchandise, and show off the goals you’re \\nmost passionate about. \\nMoney doesn’t just make the world go around; it’s also the most direct \\nway to reduce and eradicate all forms of poverty.\\nFundraising is a great way to raise money, create awareness, and inspire \\nothers. Plus, it’s fun!\\nSearch for @UNDP on Twitter, Facebook and Instagram, and share the \\ncontent you love.\\nTo donate or learn more about fundraising, visit undp.org/takeaction\\nThere are many ways to show your support and help us reach \\nthe Sustainable Development Goals by 2030. Here are a few :\\nWHA T CAN  \\nI DO TO HELP?NOTESNOTES')]"
      ]
     },
     "execution_count": 23,
     "metadata": {},
     "output_type": "execute_result"
    }
   ],
   "source": [
    "document_ques_gen"
   ]
  },
  {
   "cell_type": "code",
   "execution_count": 24,
   "id": "2410910e",
   "metadata": {},
   "outputs": [],
   "source": [
    "splitter_ans_gen = TokenTextSplitter.from_huggingface_tokenizer(\n",
    "    tokenizer = tokenizer,\n",
    "    chunk_size = 1000,\n",
    "    chunk_overlap = 100\n",
    ")"
   ]
  },
  {
   "cell_type": "code",
   "execution_count": 25,
   "id": "c085e219",
   "metadata": {},
   "outputs": [],
   "source": [
    "document_answer_gen = splitter_ans_gen.split_documents(document_ques_gen)"
   ]
  },
  {
   "cell_type": "code",
   "execution_count": 26,
   "id": "86a6cff2",
   "metadata": {},
   "outputs": [
    {
     "data": {
      "text/plain": [
       "[Document(metadata={}, page_content='IN THE YEAR 2015, LEADERS FROM 193 COUNTRIES OF THE WORLD \\nCAME TOGETHER TO FACE THE FUTURE.\\nAnd what they saw was daunting. Famines. Drought. Wars. Plagues. Poverty. \\nNot just in some faraway place, but in their own cities and towns and villages.\\nThey knew things didn’t have to be this way. They knew we had enough \\nfood to feed the world, but that it wasn’t getting shared. They knew there \\nwere medicines for HIV and other diseases, but they cost a lot. They knew \\nthat earthquakes and floods were inevitable, but that the high death \\ntolls were not. \\nThey also knew that billions of people worldwide shared their hope for a \\nbetter future.\\nSo leaders from these countries created a plan called the Sustainable \\nDevelopment Goals (SDGs). This set of 17 goals imagines a future just 15 years \\noff that would be rid of poverty and hunger, and safe from the worst effects of \\nclimate change. It’s an ambitious plan. \\nBut there’s ample evidence that we can succeed. In the past 15 years, the \\ninternational community cut extreme poverty in half. \\nNow we can finish the job.\\nThe United Nations Development Programme (UNDP) is one of the leading \\norganizations working to fulfil the SDGs by the year 2030. Present in nearly \\n170 countries and territories, we help nations make the Goals a reality. \\nWe also champion the Goals so that people everywhere know how to \\ndo their part. \\nUNDP is proud to continue as a leader in this global movement.\\nLearn about the Sustainable Development Goals.  What’s your Goal?END EXTREME POVERTY IN ALL FORMS  \\nBY 2030.\\nYes, it’s an ambitious goal—but we believe it can be done. In 2000, the \\nworld committed to halving the number of people living in extreme \\npoverty by the year 2015 and we met this goal. However, more than \\n800 million people around the world still live on less than $1.25 a day—\\nthat’s about the equivalent of the entire population of Europe living in \\nextreme poverty. Now it’s time to build on what we learned and end \\npoverty altogether.END HUNGER, ACHIEVE FOOD SECURITY \\nAND IMPROVED NUTRITION AND PROMOTE \\nSUSTAINABLE AGRICUL TURE\\nIn the past 20 years, hunger has dropped by almost half. Many \\ncountries that used to suffer from famine and hunger can now \\nmeet the nutritional needs of their most vulnerable people. It’s an \\nincredible accomplishment. Now we can go further and end hunger \\nand malnutrition once and for all. That means doing things such as \\npromoting sustainable agriculture and supporting small farmers. It’s a tall \\norder. But for the sake of the nearly 1 out of every 9 people on earth who \\ngo to bed hungry every night, we’ve got to try. Imagine a world where \\neveryone has access to sufficient and nutritious food all year round. \\nTogether, we can make that a reality by 2030.ENSURE HEAL THY LIVES AND PROMOTE \\nWELL-BEING FOR ALL AT ALL AGES\\nWe all know how important it is to be in good health. Our health affects \\neverything from how much we enjoy life to what work we can perform. \\nThat’s why there’s a Goal to make sure everyone has health coverage \\nand access to safe and effective medicines and vaccines. In the 25 \\nyears before the SDGs, we made big strides—preventable child deaths \\ndropped by more than half, and maternal mortality went down by \\nalmost as much. And yet some other numbers remain tragically high, like \\nthe fact that 6 million children die every year before their fifth birthday, \\nor that AIDS is the leading cause of death for adolescents in sub-Saharan \\nAfrica. We have the means to turn that around and make good health \\nmore than just a wish.ENSURE INCLUSIVE AND EQUITABLE QUALITY \\nEDUCATION AND PROMOTE LIFELONG \\nLEARNING OPPORTUNITIES FOR ALL \\nFirst, the bad news on education. Poverty, armed conflict and other \\nemergencies keep many, many kids around the world out of school. In \\nfact, kids from the poorest households are four times more likely to be \\nout of school than'),\n",
       " Document(metadata={}, page_content='\\nmore than just a wish.ENSURE INCLUSIVE AND EQUITABLE QUALITY \\nEDUCATION AND PROMOTE LIFELONG \\nLEARNING OPPORTUNITIES FOR ALL \\nFirst, the bad news on education. Poverty, armed conflict and other \\nemergencies keep many, many kids around the world out of school. In \\nfact, kids from the poorest households are four times more likely to be \\nout of school than those of the richest households. Now for some good \\nnews. Since 2000, there has been enormous progress on the goal to \\nprovide primary education to all children worldwide: the total enrolment \\nrate in developing regions has reached 91%. By measures in any school, \\nthat’s a good grade. Now, let’s get an even better grade for all kids, \\nand achieve the goal of universal primary and secondary education, \\naffordable vocational training, access to higher education and more.We can celebrate the great progress the world has made in becoming \\nmore prosperous and fair. But there’s a shadow to the celebration. In \\njust about every way, women and girls lag behind. There are still gross \\ninequalities in work and wages, lots of unpaid “women’s work” such as \\nchild care and domestic work, and discrimination in public decision-\\nmaking. But there are grounds for hope. More girls are in school now \\ncompared to in 2000. Most regions have reached gender parity in \\nprimary education. The percentage of women getting paid for their work \\nis on the rise. The Sustainable Development Goals aim to build on these \\nachievements to ensure that there is an end to discrimination against \\nwomen and girls everywhere.\\nACHIEVE GENDER EQUALITY AND \\nEMPOWER ALL WOMEN AND GIRLSEveryone on earth should have access to safe and affordable drinking \\nwater. That’s the goal for 2030. While many people take clean drinking \\nwater and sanitation for granted, many others don’t. Water scarcity \\naffects more than 40 percent of people around the world, and that \\nnumber is projected to go even higher as a result of climate change. \\nIf we continue the path we’re on, by 2050 at least one in four people \\nare likely to be affected by recurring water shortages. But we can take \\na new path—more international cooperation, protecting wetlands \\nand rivers, sharing water-treatment technologies—that leads to \\naccomplishing this Goal. \\nENSURE AVAILABILITY AND SUSTAINABLE \\nMANAGEMENT OF WATER AND SANITATION \\nFOR ALLENSURE ACCESS TO AFFORDABLE, RELIABLE, \\nSUSTAINABLE AND MODERN ENERGY FOR \\nALL \\nBetween 1990 and 2010, the number of people with access to electricity \\nincreased by 1.7 billion. That’s progress to be proud of. And yet as the \\nworld’s population continues to rise, still more people will need cheap \\nenergy to light their homes and streets, use phones and computers, \\nand do their everyday business. How we get that energy is at issue; fossil \\nfuels and greenhouse gas emissions are making drastic changes in the \\nclimate, leading to big problems on every continent. Instead, we can \\nbecome more energy-efficient and invest in clean energy sources such \\nas solar and wind. That way we’ll meet electricity needs and protect the \\nenvironment. How’s that for a balancing act?PROMOTE SUSTAINED, INCLUSIVE AND \\nSUSTAINABLE ECONOMIC GROWTH, FULL \\nAND PRODUCTIVE EMPLOYMENT AND \\nDECENT WORK FOR ALL \\nAn important part of economic growth is that people have jobs that \\npay enough to support themselves and their families. The good news \\nis that the middle class is growing worldwide—almost tripling in size \\nin developing countries in the last 25 years, to more than a third of the \\npopulation. But today, job growth is not keeping pace with the growing \\nlabour force. Things don’t have to be that way. We can promote policies \\nthat encourage entrepreneurship and job creation. We can eradicate \\nforced labour, slavery and human trafficking. And in the end we can \\nachieve the goal of decent work for all women and men by 2030.BUILD RESILIENT INFRASTRUCTURE, \\nPROMOTE INCLUSIVE AND SUSTAINABLE \\nINDUSTRIALIZ'),\n",
       " Document(metadata={}, page_content=' the growing \\nlabour force. Things don’t have to be that way. We can promote policies \\nthat encourage entrepreneurship and job creation. We can eradicate \\nforced labour, slavery and human trafficking. And in the end we can \\nachieve the goal of decent work for all women and men by 2030.BUILD RESILIENT INFRASTRUCTURE, \\nPROMOTE INCLUSIVE AND SUSTAINABLE \\nINDUSTRIALIZATION AND FOSTER \\nINNOVATION \\nTechnological progress helps us address big global challenges such as \\ncreating jobs and becoming more energy efficient. For example, the \\nworld is becoming ever more interconnected and prosperous thanks to \\nthe internet. The more connected we are, the more we can all benefit \\nfrom the wisdom and contributions of people everywhere on earth.  And \\nyet four billion people have no way of getting online, the vast majority \\nof them in developing countries. The more we invest in innovation \\nand infrastructure, the better off we’ll all be. Bridging the digital divide, \\npromoting sustainable industries, and investing in scientific research and \\ninnovation are all important ways to facilitate sustainable development.REDUCE INEQUALITY WITHIN AND AMONG \\nCOUNTRIES \\nIt’s an old story: the rich get richer, and the poor get poorer. The divide \\nhas never been starker. We can and must adopt policies that create \\nopportunity for everyone, regardless of who they are or where they \\ncome from. Income inequality is a global problem that requires global \\nsolutions. That means improving the regulation of financial markets \\nand institutions, sending development aid where it is most needed \\nand helping people migrate safely so they can pursue opportunities. \\nTogether, we can now change the direction of the old story of inequality.MAKE CITIES AND HUMAN SETTLEMENTS \\nINCLUSIVE, SAFE, RESILIENT AND \\nSUSTAINABLE \\nIf you’re like most people, you live in a city. More than half the world’s \\npopulation now lives in cities, and that figure will go to about two-thirds \\nof humanity by the year 2050. Cities are getting bigger. In 1990 there \\nwere ten “mega-cities” with 10 million inhabitants or more. In 2014, there \\nwere 28 mega-cities, home to 453 million people. Incredible, huh? A lot \\nof people love cities; they’re centers of culture and business and life. The \\nthing is, they’re also often centers of extreme poverty. To make cities \\nsustainable for all, we can create good, affordable public housing. We \\ncan upgrade slum settlements. We can invest in public transport, create \\ngreen spaces, and get a broader range of people involved in urban \\nplanning decisions. That way, we can keep the things we love about \\ncities, and change the things we don’t.ENSURE SUSTAINABLE CONSUMPTION AND \\nPRODUCTION PATTERNS\\nSome people use a lot of stuff, and some people use very little—in fact, \\na big share of the world population is consuming too little to meet even \\ntheir basic needs. Instead, we can have a world where everybody gets \\nwhat they need to survive and thrive. And we can consume in a way \\nthat preserves our natural resources so that our children can enjoy them, \\nand their children and their children after that. The hard part is how to \\nachieve that goal. We can manage our natural resources more efficiently \\nand dispose of toxic waste better. Cut per capita food waste in half \\nglobally. Get businesses and consumers to reduce and recycle waste. \\nAnd help countries that have typically not consumed a lot to move \\ntowards more responsible consumption patterns.TAKE URGENT ACTION TO COMBAT CLIMATE \\nCHANGE AND ITS IMPACTS\\nEvery country in the world is seeing the drastic effects of climate \\nchange, some more than others. On average, the annual losses just \\nfrom earthquakes, tsunamis, tropical cyclones and flooding count in the \\nhundreds of billions of dollars. We can reduce the loss of life and property \\nby helping more vulnerable regions—such as land-locked countries \\nand island states—become more resilient. It is still possible, with the \\npolitical will and technological measures, to limit the increase in global \\nmean temperature to two degrees Celsius above pre-industrial levels—\\nand thus avoid the worst effects'),\n",
       " Document(metadata={}, page_content='from earthquakes, tsunamis, tropical cyclones and flooding count in the \\nhundreds of billions of dollars. We can reduce the loss of life and property \\nby helping more vulnerable regions—such as land-locked countries \\nand island states—become more resilient. It is still possible, with the \\npolitical will and technological measures, to limit the increase in global \\nmean temperature to two degrees Celsius above pre-industrial levels—\\nand thus avoid the worst effects of climate change. The Sustainable \\nDevelopment Goals lay out a way for countries to work together to meet \\nthis urgent challenge.CONSERVE AND SUSTAINABLY USE THE \\nOCEANS, SEAS AND MARINE RESOURCES \\nFOR SUSTAINABLE DEVELOPMENT\\nThe oceans make human life possible. Their temperature, their chemistry, \\ntheir currents, their life forms. For one thing, more than 3 billion people \\ndepend on marine and coastal diversity for their livelihoods. But today \\nwe are seeing nearly a third of the world’s fish stocks overexploited. \\nThat’s not a sustainable way of life. Even people who live nowhere near \\nthe ocean can’t live without it. Oceans absorb about 30 percent of the \\ncarbon dioxide that humans produce; but we’re producing more carbon \\ndioxide than ever before and that makes the oceans more acidic—26% \\nmore, since the start of the industrial revolution. Our trash doesn’t help \\neither—13,000 pieces of plastic litter on every square kilometer of ocean. \\nSounds bad, right? Don’t despair! The Sustainable Development Goals \\nindicate targets for managing and protecting life below water.PROTECT, RESTORE AND PROMOTE \\nSUSTAINABLE USE OF TERRESTRIAL \\nECOSYSTEMS, SUSTAINABLY MANAGE \\nFORESTS, COMBAT DESERTIFICATION, AND \\nHAL T AND REVERSE LAND DEGRADATION \\nAND HAL T BIODIVERSITY LOSS \\nHumans and other animals rely on other forms of life on land for food, \\nclean air, clean water, and as a means of combatting climate change. \\nPlant life makes up 80% of the human diet. Forests, which cover 30% \\nof the Earth’s surface, help keep the air and water clean and the Earth’s \\nclimate in balance. That’s not to mention they’re home to millions of \\nanimal species. But the land and life on it are in trouble. Arable land \\nis disappearing 30 to 35 times faster than it has historically. Deserts \\nare spreading. Animal breeds are going extinct. We can turn these \\ntrends around. Fortunately, the Sustainable Development Goals aim to \\nconserve and restore the use of terrestrial ecosystems such as forests, \\nwetlands, drylands and mountains by 2030.PROMOTE PEACEFUL AND INCLUSIVE \\nSOCIETIES FOR SUSTAINABLE \\nDEVELOPMENT, PROVIDE ACCESS TO \\nJUSTICE FOR ALL AND BUILD EFFECTIVE, \\nACCOUNTABLE AND INCLUSIVE \\nINSTITUTIONS AT ALL LEVELS \\nHow can a country develop—how can people eat and teach and learn \\nand work and raise families—without peace? And how can a country \\nhave peace without justice, without human rights, without government \\nbased on the rule of law? Some parts of the world enjoy relative peace \\nand justice, and may come to take it for granted. Other parts seem to \\nbe plagued by armed conflict, crime, torture and exploitation, all of \\nwhich hinders their development. The goal of peace and justice is one \\nfor all countries to strive towards. The Sustainable Development Goals \\naim to reduce all forms of violence and propose that governments \\nand communities find lasting solutions to conflict and insecurity. That \\nmeans strengthening the rule of law, reducing the flow of illicit arms, \\nand bringing developing countries more into the center of institutions \\nof global governance.STRENGTHEN THE MEANS OF \\nIMPLEMENTATION AND REVITALIZE THE \\nGLOBAL PARTNERSHIP FOR SUSTAINABLE \\nDEVELOPMENT \\nThe Sustainable Development Goals are pretty big to-do list, don’t you \\nthink? In fact, it’s so big, you may just want to throw your hands up in the \\nair. “Forget it! Can’t be done! Why even try'),\n",
       " Document(metadata={}, page_content=' MEANS OF \\nIMPLEMENTATION AND REVITALIZE THE \\nGLOBAL PARTNERSHIP FOR SUSTAINABLE \\nDEVELOPMENT \\nThe Sustainable Development Goals are pretty big to-do list, don’t you \\nthink? In fact, it’s so big, you may just want to throw your hands up in the \\nair. “Forget it! Can’t be done! Why even try!” But we’ve got a lot going for \\nus. The world is more interconnected today than ever before, thanks to \\nthe internet, travel and global institutions. There’s a growing consensus \\nabout the need to work together to stop climate change. And the \\nSustainable Development Goals are no small matter either. 193 countries \\nagreed on these goals. Pretty incredible, isn’t it? 193 countries agreeing \\non anything? The final goal lays out a way for nations to work together to \\nachieve all the other Goals.Go shopping \\nMake a donation \\nStart a fundraiser \\nSpread the word \\nVisit shop.undp.org for SDG merchandise, and show off the goals you’re \\nmost passionate about. \\nMoney doesn’t just make the world go around; it’s also the most direct \\nway to reduce and eradicate all forms of poverty.\\nFundraising is a great way to raise money, create awareness, and inspire \\nothers. Plus, it’s fun!\\nSearch for @UNDP on Twitter, Facebook and Instagram, and share the \\ncontent you love.\\nTo donate or learn more about fundraising, visit undp.org/takeaction\\nThere are many ways to show your support and help us reach \\nthe Sustainable Development Goals by 2030. Here are a few :\\nWHA T CAN  \\nI DO TO HELP?NOTESNOTES')]"
      ]
     },
     "execution_count": 26,
     "metadata": {},
     "output_type": "execute_result"
    }
   ],
   "source": [
    "document_answer_gen"
   ]
  },
  {
   "cell_type": "code",
   "execution_count": 27,
   "id": "47d67d0d",
   "metadata": {},
   "outputs": [
    {
     "data": {
      "text/plain": [
       "5"
      ]
     },
     "execution_count": 27,
     "metadata": {},
     "output_type": "execute_result"
    }
   ],
   "source": [
    "len(document_answer_gen)"
   ]
  },
  {
   "cell_type": "markdown",
   "id": "f2143e74",
   "metadata": {},
   "source": [
    "*Now we will generate our questions*"
   ]
  },
  {
   "cell_type": "code",
   "execution_count": 44,
   "id": "98cfc5fa",
   "metadata": {},
   "outputs": [],
   "source": [
    "from langchain.chat_models import ChatOpenAI # If you use open AI API\n",
    "#from langchain_openrouter import ChatOpenRouter"
   ]
  },
  {
   "cell_type": "code",
   "execution_count": 45,
   "id": "879df66d",
   "metadata": {},
   "outputs": [],
   "source": [
    "llm_ques_gen_pipeline = ChatOpenAI(\n",
    "    model_name = 'mistralai/Mistral-7B-Instruct',\n",
    "    temperature = 0.3,\n",
    "    openai_api_key=OPENROUTER_API_KEY,\n",
    "    openai_api_base=\"https://openrouter.ai/api/v1\"\n",
    ")"
   ]
  },
  {
   "cell_type": "code",
   "execution_count": 46,
   "id": "fd75a343",
   "metadata": {},
   "outputs": [],
   "source": [
    "prompt_template = \"\"\" \n",
    "You are an expert at creating questions based on coding materials and documentation.\n",
    "Your goal is to prepare a coder or programmer for their exam and coding tests.\n",
    "You do this by asking questions about the text below:\n",
    "\n",
    "----------------\n",
    "{text}\n",
    "----------------\n",
    "\n",
    "Create questions that will prepare the coders or programers for their tests.\n",
    "Make sure not to lose any important information.\n",
    "\n",
    "QUESTION:\n",
    "\"\"\""
   ]
  },
  {
   "cell_type": "code",
   "execution_count": 47,
   "id": "2d1cf8f3",
   "metadata": {},
   "outputs": [],
   "source": [
    "from langchain.prompts import PromptTemplate"
   ]
  },
  {
   "cell_type": "code",
   "execution_count": 48,
   "id": "29618e8e",
   "metadata": {},
   "outputs": [],
   "source": [
    "PROMPT_QUESTIONS = PromptTemplate(template=prompt_template, input_variables=['text'])"
   ]
  },
  {
   "cell_type": "code",
   "execution_count": 49,
   "id": "9883ee5f",
   "metadata": {},
   "outputs": [],
   "source": [
    "refined_template = (\"\"\"\n",
    "You are an expert at creating practice questions based on coding material and documentation.\n",
    "Your goal is to help coder or programmer prepare for a coding test.\n",
    "We have received some practice questions to a certain extent: {existing_answer}.\n",
    "\n",
    "--------------\n",
    "{text}\n",
    "--------------\n",
    "\n",
    "Given the new context, refining the original questions in English.\n",
    "If the context is not helpful, please provide the original questions.\n",
    "\n",
    "QUESTIONS:\n",
    "\"\"\")"
   ]
  },
  {
   "cell_type": "code",
   "execution_count": 50,
   "id": "778e7f3c",
   "metadata": {},
   "outputs": [],
   "source": [
    "REFINED_PROMPT_QUESTIONS = PromptTemplate(\n",
    "    input_variables=[\"existing_answer\", \"text\"],\n",
    "    template=refined_template,\n",
    ")"
   ]
  },
  {
   "cell_type": "code",
   "execution_count": 74,
   "id": "e668de15",
   "metadata": {},
   "outputs": [],
   "source": [
    "from langchain.chains.summarize import load_summarize_chain"
   ]
  },
  {
   "cell_type": "code",
   "execution_count": null,
   "id": "06dc7191",
   "metadata": {},
   "outputs": [],
   "source": [
    "ques_gen_chain = load_summarize_chain(llm = llm_ques_gen_pipeline,\n",
    "                                      chain_type=\"refine\",\n",
    "                                      verbose=True,\n",
    "                                      question_prompt = PROMPT_QUESTIONS,\n",
    "                                      refine_prompt=REFINED_PROMPT_QUESTIONS)"
   ]
  },
  {
   "cell_type": "code",
   "execution_count": 52,
   "id": "ea52bd46",
   "metadata": {},
   "outputs": [
    {
     "data": {
      "text/plain": [
       "[Document(metadata={}, page_content='IN THE YEAR 2015, LEADERS FROM 193 COUNTRIES OF THE WORLD \\nCAME TOGETHER TO FACE THE FUTURE.\\nAnd what they saw was daunting. Famines. Drought. Wars. Plagues. Poverty. \\nNot just in some faraway place, but in their own cities and towns and villages.\\nThey knew things didn’t have to be this way. They knew we had enough \\nfood to feed the world, but that it wasn’t getting shared. They knew there \\nwere medicines for HIV and other diseases, but they cost a lot. They knew \\nthat earthquakes and floods were inevitable, but that the high death \\ntolls were not. \\nThey also knew that billions of people worldwide shared their hope for a \\nbetter future.\\nSo leaders from these countries created a plan called the Sustainable \\nDevelopment Goals (SDGs). This set of 17 goals imagines a future just 15 years \\noff that would be rid of poverty and hunger, and safe from the worst effects of \\nclimate change. It’s an ambitious plan. \\nBut there’s ample evidence that we can succeed. In the past 15 years, the \\ninternational community cut extreme poverty in half. \\nNow we can finish the job.\\nThe United Nations Development Programme (UNDP) is one of the leading \\norganizations working to fulfil the SDGs by the year 2030. Present in nearly \\n170 countries and territories, we help nations make the Goals a reality. \\nWe also champion the Goals so that people everywhere know how to \\ndo their part. \\nUNDP is proud to continue as a leader in this global movement.\\nLearn about the Sustainable Development Goals.  What’s your Goal?END EXTREME POVERTY IN ALL FORMS  \\nBY 2030.\\nYes, it’s an ambitious goal—but we believe it can be done. In 2000, the \\nworld committed to halving the number of people living in extreme \\npoverty by the year 2015 and we met this goal. However, more than \\n800 million people around the world still live on less than $1.25 a day—\\nthat’s about the equivalent of the entire population of Europe living in \\nextreme poverty. Now it’s time to build on what we learned and end \\npoverty altogether.END HUNGER, ACHIEVE FOOD SECURITY \\nAND IMPROVED NUTRITION AND PROMOTE \\nSUSTAINABLE AGRICUL TURE\\nIn the past 20 years, hunger has dropped by almost half. Many \\ncountries that used to suffer from famine and hunger can now \\nmeet the nutritional needs of their most vulnerable people. It’s an \\nincredible accomplishment. Now we can go further and end hunger \\nand malnutrition once and for all. That means doing things such as \\npromoting sustainable agriculture and supporting small farmers. It’s a tall \\norder. But for the sake of the nearly 1 out of every 9 people on earth who \\ngo to bed hungry every night, we’ve got to try. Imagine a world where \\neveryone has access to sufficient and nutritious food all year round. \\nTogether, we can make that a reality by 2030.ENSURE HEAL THY LIVES AND PROMOTE \\nWELL-BEING FOR ALL AT ALL AGES\\nWe all know how important it is to be in good health. Our health affects \\neverything from how much we enjoy life to what work we can perform. \\nThat’s why there’s a Goal to make sure everyone has health coverage \\nand access to safe and effective medicines and vaccines. In the 25 \\nyears before the SDGs, we made big strides—preventable child deaths \\ndropped by more than half, and maternal mortality went down by \\nalmost as much. And yet some other numbers remain tragically high, like \\nthe fact that 6 million children die every year before their fifth birthday, \\nor that AIDS is the leading cause of death for adolescents in sub-Saharan \\nAfrica. We have the means to turn that around and make good health \\nmore than just a wish.ENSURE INCLUSIVE AND EQUITABLE QUALITY \\nEDUCATION AND PROMOTE LIFELONG \\nLEARNING OPPORTUNITIES FOR ALL \\nFirst, the bad news on education. Poverty, armed conflict and other \\nemergencies keep many, many kids around the world out of school. In \\nfact, kids from the poorest households are four times more likely to be \\nout of school than those of the richest households. Now for some good \\nnews. Since 2000, there has been enormous progress on the goal to \\nprovide primary education to all children worldwide: the total enrolment \\nrate in developing regions has reached 91%. By measures in any school, \\nthat’s a good grade. Now, let’s get an even better grade for all kids, \\nand achieve the goal of universal primary and secondary education, \\naffordable vocational training, access to higher education and more.We can celebrate the great progress the world has made in becoming \\nmore prosperous and fair. But there’s a shadow to the celebration. In \\njust about every way, women and girls lag behind. There are still gross \\ninequalities in work and wages, lots of unpaid “women’s work” such as \\nchild care and domestic work, and discrimination in public decision-\\nmaking. But there are grounds for hope. More girls are in school now \\ncompared to in 2000. Most regions have reached gender parity in \\nprimary education. The percentage of women getting paid for their work \\nis on the rise. The Sustainable Development Goals aim to build on these \\nachievements to ensure that there is an end to discrimination against \\nwomen and girls everywhere.\\nACHIEVE GENDER EQUALITY AND \\nEMPOWER ALL WOMEN AND GIRLSEveryone on earth should have access to safe and affordable drinking \\nwater. That’s the goal for 2030. While many people take clean drinking \\nwater and sanitation for granted, many others don’t. Water scarcity \\naffects more than 40 percent of people around the world, and that \\nnumber is projected to go even higher as a result of climate change. \\nIf we continue the path we’re on, by 2050 at least one in four people \\nare likely to be affected by recurring water shortages. But we can take \\na new path—more international cooperation, protecting wetlands \\nand rivers, sharing water-treatment technologies—that leads to \\naccomplishing this Goal. \\nENSURE AVAILABILITY AND SUSTAINABLE \\nMANAGEMENT OF WATER AND SANITATION \\nFOR ALLENSURE ACCESS TO AFFORDABLE, RELIABLE, \\nSUSTAINABLE AND MODERN ENERGY FOR \\nALL \\nBetween 1990 and 2010, the number of people with access to electricity \\nincreased by 1.7 billion. That’s progress to be proud of. And yet as the \\nworld’s population continues to rise, still more people will need cheap \\nenergy to light their homes and streets, use phones and computers, \\nand do their everyday business. How we get that energy is at issue; fossil \\nfuels and greenhouse gas emissions are making drastic changes in the \\nclimate, leading to big problems on every continent. Instead, we can \\nbecome more energy-efficient and invest in clean energy sources such \\nas solar and wind. That way we’ll meet electricity needs and protect the \\nenvironment. How’s that for a balancing act?PROMOTE SUSTAINED, INCLUSIVE AND \\nSUSTAINABLE ECONOMIC GROWTH, FULL \\nAND PRODUCTIVE EMPLOYMENT AND \\nDECENT WORK FOR ALL \\nAn important part of economic growth is that people have jobs that \\npay enough to support themselves and their families. The good news \\nis that the middle class is growing worldwide—almost tripling in size \\nin developing countries in the last 25 years, to more than a third of the \\npopulation. But today, job growth is not keeping pace with the growing \\nlabour force. Things don’t have to be that way. We can promote policies \\nthat encourage entrepreneurship and job creation. We can eradicate \\nforced labour, slavery and human trafficking. And in the end we can \\nachieve the goal of decent work for all women and men by 2030.BUILD RESILIENT INFRASTRUCTURE, \\nPROMOTE INCLUSIVE AND SUSTAINABLE \\nINDUSTRIALIZATION AND FOSTER \\nINNOVATION \\nTechnological progress helps us address big global challenges such as \\ncreating jobs and becoming more energy efficient. For example, the \\nworld is becoming ever more interconnected and prosperous thanks to \\nthe internet. The more connected we are, the more we can all benefit \\nfrom the wisdom and contributions of people everywhere on earth.  And \\nyet four billion people have no way of getting online, the vast majority \\nof them in developing countries. The more we invest in innovation \\nand infrastructure, the better off we’ll all be. Bridging the digital divide, \\npromoting sustainable industries, and investing in scientific research and \\ninnovation are all important ways to facilitate sustainable development.REDUCE INEQUALITY WITHIN AND AMONG \\nCOUNTRIES \\nIt’s an old story: the rich get richer, and the poor get poorer. The divide \\nhas never been starker. We can and must adopt policies that create \\nopportunity for everyone, regardless of who they are or where they \\ncome from. Income inequality is a global problem that requires global \\nsolutions. That means improving the regulation of financial markets \\nand institutions, sending development aid where it is most needed \\nand helping people migrate safely so they can pursue opportunities. \\nTogether, we can now change the direction of the old story of inequality.MAKE CITIES AND HUMAN SETTLEMENTS \\nINCLUSIVE, SAFE, RESILIENT AND \\nSUSTAINABLE \\nIf you’re like most people, you live in a city. More than half the world’s \\npopulation now lives in cities, and that figure will go to about two-thirds \\nof humanity by the year 2050. Cities are getting bigger. In 1990 there \\nwere ten “mega-cities” with 10 million inhabitants or more. In 2014, there \\nwere 28 mega-cities, home to 453 million people. Incredible, huh? A lot \\nof people love cities; they’re centers of culture and business and life. The \\nthing is, they’re also often centers of extreme poverty. To make cities \\nsustainable for all, we can create good, affordable public housing. We \\ncan upgrade slum settlements. We can invest in public transport, create \\ngreen spaces, and get a broader range of people involved in urban \\nplanning decisions. That way, we can keep the things we love about \\ncities, and change the things we don’t.ENSURE SUSTAINABLE CONSUMPTION AND \\nPRODUCTION PATTERNS\\nSome people use a lot of stuff, and some people use very little—in fact, \\na big share of the world population is consuming too little to meet even \\ntheir basic needs. Instead, we can have a world where everybody gets \\nwhat they need to survive and thrive. And we can consume in a way \\nthat preserves our natural resources so that our children can enjoy them, \\nand their children and their children after that. The hard part is how to \\nachieve that goal. We can manage our natural resources more efficiently \\nand dispose of toxic waste better. Cut per capita food waste in half \\nglobally. Get businesses and consumers to reduce and recycle waste. \\nAnd help countries that have typically not consumed a lot to move \\ntowards more responsible consumption patterns.TAKE URGENT ACTION TO COMBAT CLIMATE \\nCHANGE AND ITS IMPACTS\\nEvery country in the world is seeing the drastic effects of climate \\nchange, some more than others. On average, the annual losses just \\nfrom earthquakes, tsunamis, tropical cyclones and flooding count in the \\nhundreds of billions of dollars. We can reduce the loss of life and property \\nby helping more vulnerable regions—such as land-locked countries \\nand island states—become more resilient. It is still possible, with the \\npolitical will and technological measures, to limit the increase in global \\nmean temperature to two degrees Celsius above pre-industrial levels—\\nand thus avoid the worst effects of climate change. The Sustainable \\nDevelopment Goals lay out a way for countries to work together to meet \\nthis urgent challenge.CONSERVE AND SUSTAINABLY USE THE \\nOCEANS, SEAS AND MARINE RESOURCES \\nFOR SUSTAINABLE DEVELOPMENT\\nThe oceans make human life possible. Their temperature, their chemistry, \\ntheir currents, their life forms. For one thing, more than 3 billion people \\ndepend on marine and coastal diversity for their livelihoods. But today \\nwe are seeing nearly a third of the world’s fish stocks overexploited. \\nThat’s not a sustainable way of life. Even people who live nowhere near \\nthe ocean can’t live without it. Oceans absorb about 30 percent of the \\ncarbon dioxide that humans produce; but we’re producing more carbon \\ndioxide than ever before and that makes the oceans more acidic—26% \\nmore, since the start of the industrial revolution. Our trash doesn’t help \\neither—13,000 pieces of plastic litter on every square kilometer of ocean. \\nSounds bad, right? Don’t despair! The Sustainable Development Goals \\nindicate targets for managing and protecting life below water.PROTECT, RESTORE AND PROMOTE \\nSUSTAINABLE USE OF TERRESTRIAL \\nECOSYSTEMS, SUSTAINABLY MANAGE \\nFORESTS, COMBAT DESERTIFICATION, AND \\nHAL T AND REVERSE LAND DEGRADATION \\nAND HAL T BIODIVERSITY LOSS \\nHumans and other animals rely on other forms of life on land for food, \\nclean air, clean water, and as a means of combatting climate change. \\nPlant life makes up 80% of the human diet. Forests, which cover 30% \\nof the Earth’s surface, help keep the air and water clean and the Earth’s \\nclimate in balance. That’s not to mention they’re home to millions of \\nanimal species. But the land and life on it are in trouble. Arable land \\nis disappearing 30 to 35 times faster than it has historically. Deserts \\nare spreading. Animal breeds are going extinct. We can turn these \\ntrends around. Fortunately, the Sustainable Development Goals aim to \\nconserve and restore the use of terrestrial ecosystems such as forests, \\nwetlands, drylands and mountains by 2030.PROMOTE PEACEFUL AND INCLUSIVE \\nSOCIETIES FOR SUSTAINABLE \\nDEVELOPMENT, PROVIDE ACCESS TO \\nJUSTICE FOR ALL AND BUILD EFFECTIVE, \\nACCOUNTABLE AND INCLUSIVE \\nINSTITUTIONS AT ALL LEVELS \\nHow can a country develop—how can people eat and teach and learn \\nand work and raise families—without peace? And how can a country \\nhave peace without justice, without human rights, without government \\nbased on the rule of law? Some parts of the world enjoy relative peace \\nand justice, and may come to take it for granted. Other parts seem to \\nbe plagued by armed conflict, crime, torture and exploitation, all of \\nwhich hinders their development. The goal of peace and justice is one \\nfor all countries to strive towards. The Sustainable Development Goals \\naim to reduce all forms of violence and propose that governments \\nand communities find lasting solutions to conflict and insecurity. That \\nmeans strengthening the rule of law, reducing the flow of illicit arms, \\nand bringing developing countries more into the center of institutions \\nof global governance.STRENGTHEN THE MEANS OF \\nIMPLEMENTATION AND REVITALIZE THE \\nGLOBAL PARTNERSHIP FOR SUSTAINABLE \\nDEVELOPMENT \\nThe Sustainable Development Goals are pretty big to-do list, don’t you \\nthink? In fact, it’s so big, you may just want to throw your hands up in the \\nair. “Forget it! Can’t be done! Why even try!” But we’ve got a lot going for \\nus. The world is more interconnected today than ever before, thanks to \\nthe internet, travel and global institutions. There’s a growing consensus \\nabout the need to work together to stop climate change. And the \\nSustainable Development Goals are no small matter either. 193 countries \\nagreed on these goals. Pretty incredible, isn’t it? 193 countries agreeing \\non anything? The final goal lays out a way for nations to work together to \\nachieve all the other Goals.Go shopping \\nMake a donation \\nStart a fundraiser \\nSpread the word \\nVisit shop.undp.org for SDG merchandise, and show off the goals you’re \\nmost passionate about. \\nMoney doesn’t just make the world go around; it’s also the most direct \\nway to reduce and eradicate all forms of poverty.\\nFundraising is a great way to raise money, create awareness, and inspire \\nothers. Plus, it’s fun!\\nSearch for @UNDP on Twitter, Facebook and Instagram, and share the \\ncontent you love.\\nTo donate or learn more about fundraising, visit undp.org/takeaction\\nThere are many ways to show your support and help us reach \\nthe Sustainable Development Goals by 2030. Here are a few :\\nWHA T CAN  \\nI DO TO HELP?NOTESNOTES')]"
      ]
     },
     "execution_count": 52,
     "metadata": {},
     "output_type": "execute_result"
    }
   ],
   "source": [
    "document_ques_gen"
   ]
  },
  {
   "cell_type": "code",
   "execution_count": 53,
   "id": "40dff998",
   "metadata": {},
   "outputs": [
    {
     "name": "stdout",
     "output_type": "stream",
     "text": [
      "\n",
      "\n",
      "\u001b[1m> Entering new RefineDocumentsChain chain...\u001b[0m\n",
      "\n",
      "\n",
      "\u001b[1m> Entering new LLMChain chain...\u001b[0m\n",
      "Prompt after formatting:\n",
      "\u001b[32;1m\u001b[1;3m \n",
      "You are an expert at creating questions based on coding materials and documentation.\n",
      "Your goal is to prepare a coder or programmer for their exam and coding tests.\n",
      "You do this by asking questions about the text below:\n",
      "\n",
      "----------------\n",
      "IN THE YEAR 2015, LEADERS FROM 193 COUNTRIES OF THE WORLD \n",
      "CAME TOGETHER TO FACE THE FUTURE.\n",
      "And what they saw was daunting. Famines. Drought. Wars. Plagues. Poverty. \n",
      "Not just in some faraway place, but in their own cities and towns and villages.\n",
      "They knew things didn’t have to be this way. They knew we had enough \n",
      "food to feed the world, but that it wasn’t getting shared. They knew there \n",
      "were medicines for HIV and other diseases, but they cost a lot. They knew \n",
      "that earthquakes and floods were inevitable, but that the high death \n",
      "tolls were not. \n",
      "They also knew that billions of people worldwide shared their hope for a \n",
      "better future.\n",
      "So leaders from these countries created a plan called the Sustainable \n",
      "Development Goals (SDGs). This set of 17 goals imagines a future just 15 years \n",
      "off that would be rid of poverty and hunger, and safe from the worst effects of \n",
      "climate change. It’s an ambitious plan. \n",
      "But there’s ample evidence that we can succeed. In the past 15 years, the \n",
      "international community cut extreme poverty in half. \n",
      "Now we can finish the job.\n",
      "The United Nations Development Programme (UNDP) is one of the leading \n",
      "organizations working to fulfil the SDGs by the year 2030. Present in nearly \n",
      "170 countries and territories, we help nations make the Goals a reality. \n",
      "We also champion the Goals so that people everywhere know how to \n",
      "do their part. \n",
      "UNDP is proud to continue as a leader in this global movement.\n",
      "Learn about the Sustainable Development Goals.  What’s your Goal?END EXTREME POVERTY IN ALL FORMS  \n",
      "BY 2030.\n",
      "Yes, it’s an ambitious goal—but we believe it can be done. In 2000, the \n",
      "world committed to halving the number of people living in extreme \n",
      "poverty by the year 2015 and we met this goal. However, more than \n",
      "800 million people around the world still live on less than $1.25 a day—\n",
      "that’s about the equivalent of the entire population of Europe living in \n",
      "extreme poverty. Now it’s time to build on what we learned and end \n",
      "poverty altogether.END HUNGER, ACHIEVE FOOD SECURITY \n",
      "AND IMPROVED NUTRITION AND PROMOTE \n",
      "SUSTAINABLE AGRICUL TURE\n",
      "In the past 20 years, hunger has dropped by almost half. Many \n",
      "countries that used to suffer from famine and hunger can now \n",
      "meet the nutritional needs of their most vulnerable people. It’s an \n",
      "incredible accomplishment. Now we can go further and end hunger \n",
      "and malnutrition once and for all. That means doing things such as \n",
      "promoting sustainable agriculture and supporting small farmers. It’s a tall \n",
      "order. But for the sake of the nearly 1 out of every 9 people on earth who \n",
      "go to bed hungry every night, we’ve got to try. Imagine a world where \n",
      "everyone has access to sufficient and nutritious food all year round. \n",
      "Together, we can make that a reality by 2030.ENSURE HEAL THY LIVES AND PROMOTE \n",
      "WELL-BEING FOR ALL AT ALL AGES\n",
      "We all know how important it is to be in good health. Our health affects \n",
      "everything from how much we enjoy life to what work we can perform. \n",
      "That’s why there’s a Goal to make sure everyone has health coverage \n",
      "and access to safe and effective medicines and vaccines. In the 25 \n",
      "years before the SDGs, we made big strides—preventable child deaths \n",
      "dropped by more than half, and maternal mortality went down by \n",
      "almost as much. And yet some other numbers remain tragically high, like \n",
      "the fact that 6 million children die every year before their fifth birthday, \n",
      "or that AIDS is the leading cause of death for adolescents in sub-Saharan \n",
      "Africa. We have the means to turn that around and make good health \n",
      "more than just a wish.ENSURE INCLUSIVE AND EQUITABLE QUALITY \n",
      "EDUCATION AND PROMOTE LIFELONG \n",
      "LEARNING OPPORTUNITIES FOR ALL \n",
      "First, the bad news on education. Poverty, armed conflict and other \n",
      "emergencies keep many, many kids around the world out of school. In \n",
      "fact, kids from the poorest households are four times more likely to be \n",
      "out of school than those of the richest households. Now for some good \n",
      "news. Since 2000, there has been enormous progress on the goal to \n",
      "provide primary education to all children worldwide: the total enrolment \n",
      "rate in developing regions has reached 91%. By measures in any school, \n",
      "that’s a good grade. Now, let’s get an even better grade for all kids, \n",
      "and achieve the goal of universal primary and secondary education, \n",
      "affordable vocational training, access to higher education and more.We can celebrate the great progress the world has made in becoming \n",
      "more prosperous and fair. But there’s a shadow to the celebration. In \n",
      "just about every way, women and girls lag behind. There are still gross \n",
      "inequalities in work and wages, lots of unpaid “women’s work” such as \n",
      "child care and domestic work, and discrimination in public decision-\n",
      "making. But there are grounds for hope. More girls are in school now \n",
      "compared to in 2000. Most regions have reached gender parity in \n",
      "primary education. The percentage of women getting paid for their work \n",
      "is on the rise. The Sustainable Development Goals aim to build on these \n",
      "achievements to ensure that there is an end to discrimination against \n",
      "women and girls everywhere.\n",
      "ACHIEVE GENDER EQUALITY AND \n",
      "EMPOWER ALL WOMEN AND GIRLSEveryone on earth should have access to safe and affordable drinking \n",
      "water. That’s the goal for 2030. While many people take clean drinking \n",
      "water and sanitation for granted, many others don’t. Water scarcity \n",
      "affects more than 40 percent of people around the world, and that \n",
      "number is projected to go even higher as a result of climate change. \n",
      "If we continue the path we’re on, by 2050 at least one in four people \n",
      "are likely to be affected by recurring water shortages. But we can take \n",
      "a new path—more international cooperation, protecting wetlands \n",
      "and rivers, sharing water-treatment technologies—that leads to \n",
      "accomplishing this Goal. \n",
      "ENSURE AVAILABILITY AND SUSTAINABLE \n",
      "MANAGEMENT OF WATER AND SANITATION \n",
      "FOR ALLENSURE ACCESS TO AFFORDABLE, RELIABLE, \n",
      "SUSTAINABLE AND MODERN ENERGY FOR \n",
      "ALL \n",
      "Between 1990 and 2010, the number of people with access to electricity \n",
      "increased by 1.7 billion. That’s progress to be proud of. And yet as the \n",
      "world’s population continues to rise, still more people will need cheap \n",
      "energy to light their homes and streets, use phones and computers, \n",
      "and do their everyday business. How we get that energy is at issue; fossil \n",
      "fuels and greenhouse gas emissions are making drastic changes in the \n",
      "climate, leading to big problems on every continent. Instead, we can \n",
      "become more energy-efficient and invest in clean energy sources such \n",
      "as solar and wind. That way we’ll meet electricity needs and protect the \n",
      "environment. How’s that for a balancing act?PROMOTE SUSTAINED, INCLUSIVE AND \n",
      "SUSTAINABLE ECONOMIC GROWTH, FULL \n",
      "AND PRODUCTIVE EMPLOYMENT AND \n",
      "DECENT WORK FOR ALL \n",
      "An important part of economic growth is that people have jobs that \n",
      "pay enough to support themselves and their families. The good news \n",
      "is that the middle class is growing worldwide—almost tripling in size \n",
      "in developing countries in the last 25 years, to more than a third of the \n",
      "population. But today, job growth is not keeping pace with the growing \n",
      "labour force. Things don’t have to be that way. We can promote policies \n",
      "that encourage entrepreneurship and job creation. We can eradicate \n",
      "forced labour, slavery and human trafficking. And in the end we can \n",
      "achieve the goal of decent work for all women and men by 2030.BUILD RESILIENT INFRASTRUCTURE, \n",
      "PROMOTE INCLUSIVE AND SUSTAINABLE \n",
      "INDUSTRIALIZATION AND FOSTER \n",
      "INNOVATION \n",
      "Technological progress helps us address big global challenges such as \n",
      "creating jobs and becoming more energy efficient. For example, the \n",
      "world is becoming ever more interconnected and prosperous thanks to \n",
      "the internet. The more connected we are, the more we can all benefit \n",
      "from the wisdom and contributions of people everywhere on earth.  And \n",
      "yet four billion people have no way of getting online, the vast majority \n",
      "of them in developing countries. The more we invest in innovation \n",
      "and infrastructure, the better off we’ll all be. Bridging the digital divide, \n",
      "promoting sustainable industries, and investing in scientific research and \n",
      "innovation are all important ways to facilitate sustainable development.REDUCE INEQUALITY WITHIN AND AMONG \n",
      "COUNTRIES \n",
      "It’s an old story: the rich get richer, and the poor get poorer. The divide \n",
      "has never been starker. We can and must adopt policies that create \n",
      "opportunity for everyone, regardless of who they are or where they \n",
      "come from. Income inequality is a global problem that requires global \n",
      "solutions. That means improving the regulation of financial markets \n",
      "and institutions, sending development aid where it is most needed \n",
      "and helping people migrate safely so they can pursue opportunities. \n",
      "Together, we can now change the direction of the old story of inequality.MAKE CITIES AND HUMAN SETTLEMENTS \n",
      "INCLUSIVE, SAFE, RESILIENT AND \n",
      "SUSTAINABLE \n",
      "If you’re like most people, you live in a city. More than half the world’s \n",
      "population now lives in cities, and that figure will go to about two-thirds \n",
      "of humanity by the year 2050. Cities are getting bigger. In 1990 there \n",
      "were ten “mega-cities” with 10 million inhabitants or more. In 2014, there \n",
      "were 28 mega-cities, home to 453 million people. Incredible, huh? A lot \n",
      "of people love cities; they’re centers of culture and business and life. The \n",
      "thing is, they’re also often centers of extreme poverty. To make cities \n",
      "sustainable for all, we can create good, affordable public housing. We \n",
      "can upgrade slum settlements. We can invest in public transport, create \n",
      "green spaces, and get a broader range of people involved in urban \n",
      "planning decisions. That way, we can keep the things we love about \n",
      "cities, and change the things we don’t.ENSURE SUSTAINABLE CONSUMPTION AND \n",
      "PRODUCTION PATTERNS\n",
      "Some people use a lot of stuff, and some people use very little—in fact, \n",
      "a big share of the world population is consuming too little to meet even \n",
      "their basic needs. Instead, we can have a world where everybody gets \n",
      "what they need to survive and thrive. And we can consume in a way \n",
      "that preserves our natural resources so that our children can enjoy them, \n",
      "and their children and their children after that. The hard part is how to \n",
      "achieve that goal. We can manage our natural resources more efficiently \n",
      "and dispose of toxic waste better. Cut per capita food waste in half \n",
      "globally. Get businesses and consumers to reduce and recycle waste. \n",
      "And help countries that have typically not consumed a lot to move \n",
      "towards more responsible consumption patterns.TAKE URGENT ACTION TO COMBAT CLIMATE \n",
      "CHANGE AND ITS IMPACTS\n",
      "Every country in the world is seeing the drastic effects of climate \n",
      "change, some more than others. On average, the annual losses just \n",
      "from earthquakes, tsunamis, tropical cyclones and flooding count in the \n",
      "hundreds of billions of dollars. We can reduce the loss of life and property \n",
      "by helping more vulnerable regions—such as land-locked countries \n",
      "and island states—become more resilient. It is still possible, with the \n",
      "political will and technological measures, to limit the increase in global \n",
      "mean temperature to two degrees Celsius above pre-industrial levels—\n",
      "and thus avoid the worst effects of climate change. The Sustainable \n",
      "Development Goals lay out a way for countries to work together to meet \n",
      "this urgent challenge.CONSERVE AND SUSTAINABLY USE THE \n",
      "OCEANS, SEAS AND MARINE RESOURCES \n",
      "FOR SUSTAINABLE DEVELOPMENT\n",
      "The oceans make human life possible. Their temperature, their chemistry, \n",
      "their currents, their life forms. For one thing, more than 3 billion people \n",
      "depend on marine and coastal diversity for their livelihoods. But today \n",
      "we are seeing nearly a third of the world’s fish stocks overexploited. \n",
      "That’s not a sustainable way of life. Even people who live nowhere near \n",
      "the ocean can’t live without it. Oceans absorb about 30 percent of the \n",
      "carbon dioxide that humans produce; but we’re producing more carbon \n",
      "dioxide than ever before and that makes the oceans more acidic—26% \n",
      "more, since the start of the industrial revolution. Our trash doesn’t help \n",
      "either—13,000 pieces of plastic litter on every square kilometer of ocean. \n",
      "Sounds bad, right? Don’t despair! The Sustainable Development Goals \n",
      "indicate targets for managing and protecting life below water.PROTECT, RESTORE AND PROMOTE \n",
      "SUSTAINABLE USE OF TERRESTRIAL \n",
      "ECOSYSTEMS, SUSTAINABLY MANAGE \n",
      "FORESTS, COMBAT DESERTIFICATION, AND \n",
      "HAL T AND REVERSE LAND DEGRADATION \n",
      "AND HAL T BIODIVERSITY LOSS \n",
      "Humans and other animals rely on other forms of life on land for food, \n",
      "clean air, clean water, and as a means of combatting climate change. \n",
      "Plant life makes up 80% of the human diet. Forests, which cover 30% \n",
      "of the Earth’s surface, help keep the air and water clean and the Earth’s \n",
      "climate in balance. That’s not to mention they’re home to millions of \n",
      "animal species. But the land and life on it are in trouble. Arable land \n",
      "is disappearing 30 to 35 times faster than it has historically. Deserts \n",
      "are spreading. Animal breeds are going extinct. We can turn these \n",
      "trends around. Fortunately, the Sustainable Development Goals aim to \n",
      "conserve and restore the use of terrestrial ecosystems such as forests, \n",
      "wetlands, drylands and mountains by 2030.PROMOTE PEACEFUL AND INCLUSIVE \n",
      "SOCIETIES FOR SUSTAINABLE \n",
      "DEVELOPMENT, PROVIDE ACCESS TO \n",
      "JUSTICE FOR ALL AND BUILD EFFECTIVE, \n",
      "ACCOUNTABLE AND INCLUSIVE \n",
      "INSTITUTIONS AT ALL LEVELS \n",
      "How can a country develop—how can people eat and teach and learn \n",
      "and work and raise families—without peace? And how can a country \n",
      "have peace without justice, without human rights, without government \n",
      "based on the rule of law? Some parts of the world enjoy relative peace \n",
      "and justice, and may come to take it for granted. Other parts seem to \n",
      "be plagued by armed conflict, crime, torture and exploitation, all of \n",
      "which hinders their development. The goal of peace and justice is one \n",
      "for all countries to strive towards. The Sustainable Development Goals \n",
      "aim to reduce all forms of violence and propose that governments \n",
      "and communities find lasting solutions to conflict and insecurity. That \n",
      "means strengthening the rule of law, reducing the flow of illicit arms, \n",
      "and bringing developing countries more into the center of institutions \n",
      "of global governance.STRENGTHEN THE MEANS OF \n",
      "IMPLEMENTATION AND REVITALIZE THE \n",
      "GLOBAL PARTNERSHIP FOR SUSTAINABLE \n",
      "DEVELOPMENT \n",
      "The Sustainable Development Goals are pretty big to-do list, don’t you \n",
      "think? In fact, it’s so big, you may just want to throw your hands up in the \n",
      "air. “Forget it! Can’t be done! Why even try!” But we’ve got a lot going for \n",
      "us. The world is more interconnected today than ever before, thanks to \n",
      "the internet, travel and global institutions. There’s a growing consensus \n",
      "about the need to work together to stop climate change. And the \n",
      "Sustainable Development Goals are no small matter either. 193 countries \n",
      "agreed on these goals. Pretty incredible, isn’t it? 193 countries agreeing \n",
      "on anything? The final goal lays out a way for nations to work together to \n",
      "achieve all the other Goals.Go shopping \n",
      "Make a donation \n",
      "Start a fundraiser \n",
      "Spread the word \n",
      "Visit shop.undp.org for SDG merchandise, and show off the goals you’re \n",
      "most passionate about. \n",
      "Money doesn’t just make the world go around; it’s also the most direct \n",
      "way to reduce and eradicate all forms of poverty.\n",
      "Fundraising is a great way to raise money, create awareness, and inspire \n",
      "others. Plus, it’s fun!\n",
      "Search for @UNDP on Twitter, Facebook and Instagram, and share the \n",
      "content you love.\n",
      "To donate or learn more about fundraising, visit undp.org/takeaction\n",
      "There are many ways to show your support and help us reach \n",
      "the Sustainable Development Goals by 2030. Here are a few :\n",
      "WHA T CAN  \n",
      "I DO TO HELP?NOTESNOTES\n",
      "----------------\n",
      "\n",
      "Create questions that will prepare the coders or programers for their tests.\n",
      "Make sure not to lose any important information.\n",
      "\n",
      "QUESTION:\n",
      "\u001b[0m\n",
      "\n",
      "\u001b[1m> Finished chain.\u001b[0m\n",
      "\n",
      "\u001b[1m> Finished chain.\u001b[0m\n",
      " 1. What is the name of the plan created by leaders from 193 countries in 2015 to address global issues such as poverty, hunger, and climate change?\n",
      "   Answer: Sustainable Development Goals (SDGs)\n",
      "\n",
      "2. What is the goal of the SDGs in relation to extreme poverty?\n",
      "   Answer: To end extreme poverty in all forms by 2030.\n",
      "\n",
      "3. How many people around the world still live on less than $1.25 a day?\n",
      "   Answer: More than 800 million people\n",
      "\n",
      "4. What is the goal of the SDG related to hunger and nutrition?\n",
      "   Answer: To end hunger and malnutrition once and for all.\n",
      "\n",
      "5. What is the goal of the SDG related to health and well-being?\n",
      "   Answer: To ensure healthy lives and promote well-being for all at all ages.\n",
      "\n",
      "6. What is the goal of the SDG related to education?\n",
      "   Answer: To ensure inclusive and equitable quality education and promote lifelong learning opportunities for all.\n",
      "\n",
      "7. What is the goal of the SDG related to gender equality and empowerment of women and girls?\n",
      "   Answer: To achieve gender equality and empower all women and girls.\n",
      "\n",
      "8. What is the goal of the SDG related to clean water and sanitation?\n",
      "   Answer: To ensure availability and sustainable management of water and sanitation for all.\n",
      "\n",
      "9. What is the goal of the SDG related to energy?\n",
      "   Answer: To ensure access to affordable, reliable, sustainable and modern energy for all.\n",
      "\n",
      "10. What is the goal of the SDG related to economic growth and employment?\n",
      "   Answer: To promote sustained, inclusive and sustainable economic growth, full and productive employment and decent work for all.\n",
      "\n",
      "11. What is the goal of the SDG related to infrastructure, industrialization, and innovation?\n",
      "   Answer: To build resilient infrastructure, promote inclusive and sustainable industrialization and foster innovation.\n",
      "\n",
      "12. What is the goal of the SDG related to reducing inequality?\n",
      "   Answer: To reduce inequality within and among countries.\n",
      "\n",
      "13. What is the goal of the SDG related to sustainable cities and communities?\n",
      "   Answer: To make cities and human settlements inclusive, safe, resilient and sustainable.\n",
      "\n",
      "14. What is the goal of the SDG related to sustainable consumption and production?\n",
      "   Answer: To ensure sustainable consumption and production patterns.\n",
      "\n",
      "15. What is the goal of the SDG related to climate change?\n",
      "   Answer: To take urgent action to combat climate change and its impacts.\n",
      "\n",
      "16. What is the goal of the SDG related to oceans, seas, and marine resources?\n",
      "   Answer: To conserve and sustainably use the oceans, seas and marine resources for sustainable development.\n",
      "\n",
      "17. What is the goal of the SDG related to terrestrial ecosystems, forests, desertification, and biodiversity loss?\n",
      "   Answer: To protect, restore and promote sustainable use of terrestrial ecosystems, sustainably manage forests, combat desertification, and halt and reverse land degradation and biodiversity loss.\n",
      "\n",
      "18. What is the goal of the SDG related to peaceful and inclusive societies, access to justice, and effective institutions?\n",
      "   Answer: To promote peaceful and inclusive societies for sustainable development, provide access to justice for all and build effective, accountable and inclusive institutions at all levels.\n",
      "\n",
      "19. What is the goal of the SDG related to revitalizing the global partnership for sustainable development?\n",
      "   Answer: To strengthen the means of implementation and revitalize the global partnership for sustainable development.\n",
      "\n",
      "20. What is one way individuals can support the SDGs?\n",
      "   Answer: By making a donation, starting a fundraiser, spreading the word, or visiting shop.undp.org for SDG merchandise.\n"
     ]
    }
   ],
   "source": [
    "ques = ques_gen_chain.run(document_ques_gen)\n",
    "\n",
    "print(ques)"
   ]
  },
  {
   "cell_type": "code",
   "execution_count": 54,
   "id": "87fdadf6",
   "metadata": {},
   "outputs": [],
   "source": [
    "from langchain_huggingface import HuggingFaceEmbeddings\n"
   ]
  },
  {
   "cell_type": "code",
   "execution_count": 55,
   "id": "bdcb722d",
   "metadata": {},
   "outputs": [],
   "source": [
    "#embeddings = OpenAIEmbeddings() #This is for open AI API\n",
    "\n",
    "embeddings = HuggingFaceEmbeddings(model_name=\"all-MiniLM-L6-v2\")"
   ]
  },
  {
   "cell_type": "code",
   "execution_count": 56,
   "id": "2c61f23d",
   "metadata": {},
   "outputs": [],
   "source": [
    "from langchain.vectorstores import FAISS"
   ]
  },
  {
   "cell_type": "code",
   "execution_count": 57,
   "id": "56fa95f8",
   "metadata": {},
   "outputs": [],
   "source": [
    "vector_store = FAISS.from_documents(document_answer_gen, embeddings)"
   ]
  },
  {
   "cell_type": "code",
   "execution_count": 59,
   "id": "c2dc8148",
   "metadata": {},
   "outputs": [],
   "source": [
    "llm_answer_gen = ChatOpenAI(\n",
    "    model_name = 'mistralai/Mistral-7B-Instruct',\n",
    "    temperature = 0.1,\n",
    "    openai_api_key=OPENROUTER_API_KEY,\n",
    "    openai_api_base=\"https://openrouter.ai/api/v1\"\n",
    ")"
   ]
  },
  {
   "cell_type": "code",
   "execution_count": 60,
   "id": "0235c77a",
   "metadata": {},
   "outputs": [
    {
     "data": {
      "text/plain": [
       "' 1. What is the name of the plan created by leaders from 193 countries in 2015 to address global issues such as poverty, hunger, and climate change?\\n   Answer: Sustainable Development Goals (SDGs)\\n\\n2. What is the goal of the SDGs in relation to extreme poverty?\\n   Answer: To end extreme poverty in all forms by 2030.\\n\\n3. How many people around the world still live on less than $1.25 a day?\\n   Answer: More than 800 million people\\n\\n4. What is the goal of the SDG related to hunger and nutrition?\\n   Answer: To end hunger and malnutrition once and for all.\\n\\n5. What is the goal of the SDG related to health and well-being?\\n   Answer: To ensure healthy lives and promote well-being for all at all ages.\\n\\n6. What is the goal of the SDG related to education?\\n   Answer: To ensure inclusive and equitable quality education and promote lifelong learning opportunities for all.\\n\\n7. What is the goal of the SDG related to gender equality and empowerment of women and girls?\\n   Answer: To achieve gender equality and empower all women and girls.\\n\\n8. What is the goal of the SDG related to clean water and sanitation?\\n   Answer: To ensure availability and sustainable management of water and sanitation for all.\\n\\n9. What is the goal of the SDG related to energy?\\n   Answer: To ensure access to affordable, reliable, sustainable and modern energy for all.\\n\\n10. What is the goal of the SDG related to economic growth and employment?\\n   Answer: To promote sustained, inclusive and sustainable economic growth, full and productive employment and decent work for all.\\n\\n11. What is the goal of the SDG related to infrastructure, industrialization, and innovation?\\n   Answer: To build resilient infrastructure, promote inclusive and sustainable industrialization and foster innovation.\\n\\n12. What is the goal of the SDG related to reducing inequality?\\n   Answer: To reduce inequality within and among countries.\\n\\n13. What is the goal of the SDG related to sustainable cities and communities?\\n   Answer: To make cities and human settlements inclusive, safe, resilient and sustainable.\\n\\n14. What is the goal of the SDG related to sustainable consumption and production?\\n   Answer: To ensure sustainable consumption and production patterns.\\n\\n15. What is the goal of the SDG related to climate change?\\n   Answer: To take urgent action to combat climate change and its impacts.\\n\\n16. What is the goal of the SDG related to oceans, seas, and marine resources?\\n   Answer: To conserve and sustainably use the oceans, seas and marine resources for sustainable development.\\n\\n17. What is the goal of the SDG related to terrestrial ecosystems, forests, desertification, and biodiversity loss?\\n   Answer: To protect, restore and promote sustainable use of terrestrial ecosystems, sustainably manage forests, combat desertification, and halt and reverse land degradation and biodiversity loss.\\n\\n18. What is the goal of the SDG related to peaceful and inclusive societies, access to justice, and effective institutions?\\n   Answer: To promote peaceful and inclusive societies for sustainable development, provide access to justice for all and build effective, accountable and inclusive institutions at all levels.\\n\\n19. What is the goal of the SDG related to revitalizing the global partnership for sustainable development?\\n   Answer: To strengthen the means of implementation and revitalize the global partnership for sustainable development.\\n\\n20. What is one way individuals can support the SDGs?\\n   Answer: By making a donation, starting a fundraiser, spreading the word, or visiting shop.undp.org for SDG merchandise.'"
      ]
     },
     "execution_count": 60,
     "metadata": {},
     "output_type": "execute_result"
    }
   ],
   "source": [
    "ques"
   ]
  },
  {
   "cell_type": "code",
   "execution_count": 61,
   "id": "8fc543f1",
   "metadata": {},
   "outputs": [],
   "source": [
    "ques_list = ques.split(\"\\n\")"
   ]
  },
  {
   "cell_type": "code",
   "execution_count": null,
   "id": "1b3d1a67",
   "metadata": {},
   "outputs": [],
   "source": []
  },
  {
   "cell_type": "code",
   "execution_count": 62,
   "id": "11714500",
   "metadata": {},
   "outputs": [
    {
     "data": {
      "text/plain": [
       "[' 1. What is the name of the plan created by leaders from 193 countries in 2015 to address global issues such as poverty, hunger, and climate change?',\n",
       " '   Answer: Sustainable Development Goals (SDGs)',\n",
       " '',\n",
       " '2. What is the goal of the SDGs in relation to extreme poverty?',\n",
       " '   Answer: To end extreme poverty in all forms by 2030.',\n",
       " '',\n",
       " '3. How many people around the world still live on less than $1.25 a day?',\n",
       " '   Answer: More than 800 million people',\n",
       " '',\n",
       " '4. What is the goal of the SDG related to hunger and nutrition?',\n",
       " '   Answer: To end hunger and malnutrition once and for all.',\n",
       " '',\n",
       " '5. What is the goal of the SDG related to health and well-being?',\n",
       " '   Answer: To ensure healthy lives and promote well-being for all at all ages.',\n",
       " '',\n",
       " '6. What is the goal of the SDG related to education?',\n",
       " '   Answer: To ensure inclusive and equitable quality education and promote lifelong learning opportunities for all.',\n",
       " '',\n",
       " '7. What is the goal of the SDG related to gender equality and empowerment of women and girls?',\n",
       " '   Answer: To achieve gender equality and empower all women and girls.',\n",
       " '',\n",
       " '8. What is the goal of the SDG related to clean water and sanitation?',\n",
       " '   Answer: To ensure availability and sustainable management of water and sanitation for all.',\n",
       " '',\n",
       " '9. What is the goal of the SDG related to energy?',\n",
       " '   Answer: To ensure access to affordable, reliable, sustainable and modern energy for all.',\n",
       " '',\n",
       " '10. What is the goal of the SDG related to economic growth and employment?',\n",
       " '   Answer: To promote sustained, inclusive and sustainable economic growth, full and productive employment and decent work for all.',\n",
       " '',\n",
       " '11. What is the goal of the SDG related to infrastructure, industrialization, and innovation?',\n",
       " '   Answer: To build resilient infrastructure, promote inclusive and sustainable industrialization and foster innovation.',\n",
       " '',\n",
       " '12. What is the goal of the SDG related to reducing inequality?',\n",
       " '   Answer: To reduce inequality within and among countries.',\n",
       " '',\n",
       " '13. What is the goal of the SDG related to sustainable cities and communities?',\n",
       " '   Answer: To make cities and human settlements inclusive, safe, resilient and sustainable.',\n",
       " '',\n",
       " '14. What is the goal of the SDG related to sustainable consumption and production?',\n",
       " '   Answer: To ensure sustainable consumption and production patterns.',\n",
       " '',\n",
       " '15. What is the goal of the SDG related to climate change?',\n",
       " '   Answer: To take urgent action to combat climate change and its impacts.',\n",
       " '',\n",
       " '16. What is the goal of the SDG related to oceans, seas, and marine resources?',\n",
       " '   Answer: To conserve and sustainably use the oceans, seas and marine resources for sustainable development.',\n",
       " '',\n",
       " '17. What is the goal of the SDG related to terrestrial ecosystems, forests, desertification, and biodiversity loss?',\n",
       " '   Answer: To protect, restore and promote sustainable use of terrestrial ecosystems, sustainably manage forests, combat desertification, and halt and reverse land degradation and biodiversity loss.',\n",
       " '',\n",
       " '18. What is the goal of the SDG related to peaceful and inclusive societies, access to justice, and effective institutions?',\n",
       " '   Answer: To promote peaceful and inclusive societies for sustainable development, provide access to justice for all and build effective, accountable and inclusive institutions at all levels.',\n",
       " '',\n",
       " '19. What is the goal of the SDG related to revitalizing the global partnership for sustainable development?',\n",
       " '   Answer: To strengthen the means of implementation and revitalize the global partnership for sustainable development.',\n",
       " '',\n",
       " '20. What is one way individuals can support the SDGs?',\n",
       " '   Answer: By making a donation, starting a fundraiser, spreading the word, or visiting shop.undp.org for SDG merchandise.']"
      ]
     },
     "execution_count": 62,
     "metadata": {},
     "output_type": "execute_result"
    }
   ],
   "source": [
    "ques_list"
   ]
  },
  {
   "cell_type": "code",
   "execution_count": null,
   "id": "ecc8d462",
   "metadata": {},
   "outputs": [],
   "source": [
    "from langchain.chains import RetrievalQA"
   ]
  },
  {
   "cell_type": "code",
   "execution_count": 68,
   "id": "1eb5dd97",
   "metadata": {},
   "outputs": [],
   "source": [
    "answer_generation_chain = RetrievalQA.from_chain_type(llm=llm_answer_gen,\n",
    "                                                      chain_type=\"stuff\",\n",
    "                                                      retriever=vector_store.as_retriever())"
   ]
  },
  {
   "cell_type": "code",
   "execution_count": 73,
   "id": "f5c75408",
   "metadata": {},
   "outputs": [
    {
     "name": "stdout",
     "output_type": "stream",
     "text": [
      "Question:   1. What is the name of the plan created by leaders from 193 countries in 2015 to address global issues such as poverty, hunger, and climate change?\n",
      "Answer:   The plan created by leaders from 193 countries in 2015 to address global issues such as poverty, hunger, and climate change is called the Sustainable Development Goals (SDGs).\n",
      "-------------------------------------\\n\\n\n",
      "Question:     Answer: Sustainable Development Goals (SDGs)\n",
      "Answer:   The Sustainable Development Goals (SDGs) are a set of 17 goals created by leaders from 193 countries in 2015. These goals aim to end poverty, hunger, and promote sustainable development by 2030. The SDGs include goals such as ending extreme poverty, ensuring healthy lives and promoting well-being for all, ensuring inclusive and equitable quality education, and taking urgent action to combat climate change. The United Nations Development Programme (UNDP) is one of the leading organizations working to fulfill the SDGs.\n",
      "-------------------------------------\\n\\n\n",
      "Question:  \n",
      "Answer:   To help implement and revitalize the Global Partnership for Sustainable Development, you can:\n",
      "\n",
      "1. Learn about the Sustainable Development Goals (SDGs) and choose a goal you are passionate about.\n",
      "2. Make a donation or start a fundraiser to support the SDGs.\n",
      "3. Spread awareness about the SDGs by sharing content on social media platforms like Twitter, Facebook, and Instagram.\n",
      "4. Visit shop.undp.org to purchase SDG merchandise and show your support.\n",
      "5. Take action by advocating for policies that promote sustainable development, such as reducing inequality, ensuring access to clean water and sanitation, and promoting gender equality.\n",
      "6. Support organizations that are working towards the SDGs, such as the United Nations Development Programme (UNDP).\n",
      "7. Educate yourself and others about the importance of the SDGs and the role each person can play in achieving them.\n",
      "8. Encourage businesses and governments to adopt sustainable practices and policies that align with the SDGs.\n",
      "9. Volunteer your time and skills to organizations working on the SDGs.\n",
      "10. Vote for political leaders who prioritize the SDGs and support policies that promote sustainable development.\n",
      "-------------------------------------\\n\\n\n",
      "Question:  2. What is the goal of the SDGs in relation to extreme poverty?\n",
      "Answer:   The goal of the Sustainable Development Goals (SDGs) in relation to extreme poverty is to end extreme poverty in all its forms by 2030. This means ensuring that everyone, regardless of their gender, age, or location, has access to the resources and opportunities needed to live a life free from poverty.\n",
      "-------------------------------------\\n\\n\n",
      "Question:     Answer: To end extreme poverty in all forms by 2030.\n",
      "Answer:   The Sustainable Development Goal (SDG) that aims to end extreme poverty in all forms by 2030 is Goal 1. This goal is part of a set of 17 goals created by leaders from 193 countries in 2015 to address global challenges such as poverty, hunger, health, education, gender equality, clean water, and climate change. The United Nations Development Programme (UNDP) is one of the leading organizations working to fulfill these goals by 2030.\n",
      "-------------------------------------\\n\\n\n",
      "Question:  \n",
      "Answer:   To help implement and revitalize the Global Partnership for Sustainable Development, here are some actions you can take:\n",
      "\n",
      "1. Learn about the Sustainable Development Goals (SDGs) and choose a goal that you are passionate about.\n",
      "2. Make a donation to organizations working towards the SDGs, such as the United Nations Development Programme (UNDP).\n",
      "3. Start a fundraiser to raise money and awareness for the SDGs.\n",
      "4. Spread the word about the SDGs on social media platforms like Twitter, Facebook, and Instagram.\n",
      "5. Visit shop.undp.org for SDG merchandise to show your support.\n",
      "6. Get involved in advocacy efforts to promote the SDGs and encourage your local community to take action.\n",
      "7. Educate yourself and others about the importance of the SDGs and the role they play in creating a sustainable future.\n",
      "8. Support policies and initiatives that align with the SDGs, such as those that promote sustainable agriculture, renewable energy, and gender equality.\n",
      "9. Volunteer your time and skills to organizations working towards the SDGs.\n",
      "10. Vote for political leaders who prioritize the SDGs and take action to address global challenges.\n",
      "-------------------------------------\\n\\n\n",
      "Question:  3. How many people around the world still live on less than $1.25 a day?\n",
      "Answer:   Based on the provided context, the text does not contain information about the number of people around the world who still live on less than $1.25 a day.\n",
      "-------------------------------------\\n\\n\n",
      "Question:     Answer: More than 800 million people\n",
      "Answer:   To help implement and revitalize the Global Partnership for Sustainable Development, here are some actions you can take:\n",
      "\n",
      "1. **Educate Yourself**: Learn more about the Sustainable Development Goals (SDGs) and their importance. You can do this by visiting the official UN website (undp.org) or by following the UN Development Programme (UNDP) on social media platforms like Twitter, Facebook, and Instagram.\n",
      "\n",
      "2. **Spread Awareness**: Share information about the SDGs with your friends, family, and community. The more people know about the SDGs, the more support they can provide.\n",
      "\n",
      "3. **Fundraising**: Organize a fundraiser to support the SDGs. This could be a charity event, a bake sale, or a crowdfunding campaign. The funds raised can help in various SDG-related projects.\n",
      "\n",
      "4. **Donate**: Make a direct donation to organizations working towards the SDGs. The UNDP has a donation page on their website (undp.org/takeaction).\n",
      "\n",
      "5. **Advocate**: Contact your local representatives and urge them to support policies that align with the SDGs. This could include policies related to climate change, education, gender equality, and more.\n",
      "\n",
      "6. **Volunteer**: Look for volunteer opportunities with organizations working on SDG-related projects. This could be a one-time event or an ongoing commitment.\n",
      "\n",
      "7. **Vote**: In elections, consider the candidates' stance on the SDGs. Support those who are committed to achieving these goals.\n",
      "\n",
      "8. **Practice Sustainable Living**: Live a lifestyle that is sustainable and aligns with the SDGs. This could include reducing waste, using renewable energy, and supporting fair trade.\n",
      "\n",
      "9. **Shop Sustainably**: Buy products from companies that prioritize sustainability and the SDGs. This could include products that are ethically sourced, environmentally friendly, and support fair labor practices.\n",
      "\n",
      "10. **Stay Informed**: Keep up with news and updates about the SDGs. This will help you stay informed and motivated to continue supporting these important goals.\n",
      "-------------------------------------\\n\\n\n",
      "Question:  \n",
      "Answer:   To help implement and revitalize the Global Partnership for Sustainable Development, here are some actions you can take:\n",
      "\n",
      "1. Learn about the Sustainable Development Goals (SDGs) and choose a goal that you are passionate about.\n",
      "2. Make a donation to organizations working towards the SDGs, such as the United Nations Development Programme (UNDP).\n",
      "3. Start a fundraiser to raise money and awareness for the SDGs.\n",
      "4. Spread the word about the SDGs on social media platforms like Twitter, Facebook, and Instagram.\n",
      "5. Visit shop.undp.org for SDG merchandise to show your support.\n",
      "6. Get involved in advocacy efforts to promote the SDGs and encourage your local community to take action.\n",
      "7. Educate yourself and others about the importance of the SDGs and how they can make a difference in the world.\n",
      "8. Support policies and initiatives that align with the SDGs, such as those that promote sustainable agriculture, renewable energy, and gender equality.\n",
      "9. Volunteer your time and skills to organizations working towards the SDGs.\n",
      "10. Vote for political leaders who prioritize the SDGs and take action to address global challenges.\n",
      "-------------------------------------\\n\\n\n",
      "Question:  4. What is the goal of the SDG related to hunger and nutrition?\n",
      "Answer:   The goal related to hunger and nutrition in the Sustainable Development Goals (SDGs) is \"End Hunger, Achieve Food Security and Improved Nutrition and Promote Sustainable Agriculture.\" This goal aims to end hunger and malnutrition once and for all, promote sustainable agriculture, and support small farmers. It's a tall order, but for the sake of the nearly 1 out of every 9 people on earth who go to bed hungry every night, it's a goal worth pursuing. The SDGs aim to achieve this goal by 2030.\n",
      "-------------------------------------\\n\\n\n",
      "Question:     Answer: To end hunger and malnutrition once and for all.\n",
      "Answer:   The user is asking about the Sustainable Development Goal related to ending hunger and malnutrition. According to the context provided, the goal is to \"End Hunger, Achieve Food Security and Improved Nutrition and Promote Sustainable Agriculture.\" This goal aims to do things such as promoting sustainable agriculture and supporting small farmers to end hunger and malnutrition by 2030. The goal is important because nearly 1 out of every 9 people on earth go to bed hungry every night, and it's an ambitious but achievable goal given the progress made in reducing hunger in the past 20 years.\n",
      "-------------------------------------\\n\\n\n",
      "Question:  \n",
      "Answer:   To help implement and revitalize the Global Partnership for Sustainable Development, here are some actions you can take:\n",
      "\n",
      "1. Learn about the Sustainable Development Goals (SDGs) and choose a goal that you are passionate about.\n",
      "2. Make a donation to organizations working towards the SDGs, such as the United Nations Development Programme (UNDP).\n",
      "3. Start a fundraiser to raise money and awareness for the SDGs.\n",
      "4. Spread the word about the SDGs on social media platforms like Twitter, Facebook, and Instagram.\n",
      "5. Visit shop.undp.org for SDG merchandise to show your support.\n",
      "6. Advocate for policies that promote sustainable development, such as investing in infrastructure, promoting sustainable industries, and reducing inequality.\n",
      "7. Support organizations that work towards ending extreme poverty, ensuring access to education, promoting gender equality, and ensuring access to clean water and affordable, reliable, sustainable, and modern energy.\n",
      "8. Encourage businesses to adopt sustainable practices and reduce waste.\n",
      "9. Support policies that promote decent work for all and eradicate forced labor, slavery, and human trafficking.\n",
      "10. Advocate for international cooperation to address global challenges such as climate change and water scarcity.\n",
      "-------------------------------------\\n\\n\n",
      "Question:  5. What is the goal of the SDG related to health and well-being?\n",
      "Answer:   The goal of the Sustainable Development Goal (SDG) related to health and well-being is to \"Ensure healthy lives and promote well-being for all at all ages.\" This goal aims to ensure universal access to sexual and reproductive health care services, maternal health, and end preventable deaths of newborns and children under 5 years of age. It also aims to combat HIV, AIDS, tuberculosis, malaria, and other diseases, and to ensure access to safe, effective, quality, and affordable essential medicines and vaccines for all. Additionally, it aims to reduce the global maternal mortality ratio to less than 70 per 100,000 live births and end preventable deaths of newborns and children under 5 years of age.\n",
      "-------------------------------------\\n\\n\n",
      "Question:     Answer: To ensure healthy lives and promote well-being for all at all ages.\n",
      "Answer:   The Sustainable Development Goal (SDG) that aims to ensure healthy lives and promote well-being for all at all ages is Goal 3. This goal focuses on making sure everyone has access to health coverage, safe and effective medicines, and vaccines. It also aims to reduce preventable child deaths and maternal mortality, and address issues like AIDS, malaria, and other diseases. The goal is to achieve this by 2030.\n",
      "-------------------------------------\\n\\n\n",
      "Question:  \n",
      "Answer:   To help implement and revitalize the Global Partnership for Sustainable Development, here are some actions you can take:\n",
      "\n",
      "1. Learn about the Sustainable Development Goals (SDGs) and choose a goal that you are passionate about.\n",
      "2. Make a donation to organizations working towards the SDGs, such as the United Nations Development Programme (UNDP).\n",
      "3. Start a fundraiser to raise money and awareness for the SDGs.\n",
      "4. Spread the word about the SDGs on social media platforms like Twitter, Facebook, and Instagram.\n",
      "5. Visit shop.undp.org for SDG merchandise to show your support.\n",
      "6. Advocate for policies that promote sustainable development, such as investing in infrastructure, promoting sustainable industries, and reducing inequality.\n",
      "7. Support organizations that are working towards the SDGs in your local community.\n",
      "8. Educate yourself and others about the importance of the SDGs and how they can make a difference in the world.\n",
      "9. Volunteer your time and skills to organizations working towards the SDGs.\n",
      "10. Encourage your local government to adopt policies that align with the SDGs and support their implementation.\n",
      "-------------------------------------\\n\\n\n",
      "Question:  6. What is the goal of the SDG related to education?\n",
      "Answer:   The goal of the Sustainable Development Goal (SDG) related to education is to ensure inclusive and equitable quality education and promote lifelong learning opportunities for all. This goal aims to achieve universal primary and secondary education, affordable vocational training, access to higher education, and more. The goal also focuses on eradicating gender disparities in education and promoting equal access to education for all.\n",
      "-------------------------------------\\n\\n\n",
      "Question:     Answer: To ensure inclusive and equitable quality education and promote lifelong learning opportunities for all.\n",
      "Answer:   To ensure inclusive and equitable quality education and promote lifelong learning opportunities for all, one can take the following actions:\n",
      "\n",
      "1. Support organizations that work towards providing education to children in poverty-stricken areas, conflict zones, and emergency situations.\n",
      "2. Advocate for policies that make education more accessible and affordable for all, regardless of gender, socio-economic status, or location.\n",
      "3. Encourage and support girls' education, as girls are often disproportionately affected by lack of access to education.\n",
      "4. Promote lifelong learning opportunities by supporting adult education programs, vocational training, and continuing education initiatives.\n",
      "5. Encourage and support the use of technology in education, as it can help make education more accessible and affordable for a larger number of people.\n",
      "6. Volunteer to teach or mentor children in underserved communities.\n",
      "7. Donate to organizations that provide scholarships, textbooks, and other educational resources to students in need.\n",
      "8. Raise awareness about the importance of education and the challenges faced by children and adults in accessing quality education.\n",
      "9. Support policies that prioritize education funding and allocate resources to schools and programs that serve disadvantaged communities.\n",
      "10. Encourage businesses to invest in education and provide opportunities for employees to volunteer in education-related initiatives.\n",
      "-------------------------------------\\n\\n\n",
      "Question:  \n",
      "Answer:   To help implement and revitalize the Global Partnership for Sustainable Development, here are some actions you can take:\n",
      "\n",
      "1. Learn about the Sustainable Development Goals (SDGs) and choose a goal that you are passionate about.\n",
      "2. Make a donation to organizations working towards the SDGs, such as the United Nations Development Programme (UNDP).\n",
      "3. Start a fundraiser to raise money and awareness for the SDGs.\n",
      "4. Spread the word about the SDGs on social media by following UNDP on Twitter, Facebook, and Instagram, and sharing their content.\n",
      "5. Visit shop.undp.org to purchase SDG merchandise and show your support.\n",
      "6. Advocate for policies that support the SDGs in your community and at the national level.\n",
      "7. Volunteer your time and skills to organizations working towards the SDGs.\n",
      "8. Educate yourself and others about the importance of the SDGs and the role they play in creating a more sustainable and equitable world.\n",
      "9. Participate in events and campaigns organized by the United Nations and other organizations working towards the SDGs.\n",
      "10. Vote for political leaders who prioritize the SDGs and support policies that align with them.\n",
      "-------------------------------------\\n\\n\n",
      "Question:  7. What is the goal of the SDG related to gender equality and empowerment of women and girls?\n",
      "Answer:   The goal of the Sustainable Development Goal (SDG) related to gender equality and empowerment of women and girls is to \"Achieve gender equality and empower all women and girls.\" This goal aims to end discrimination against women and girls everywhere, and to ensure that they have equal opportunities in education, employment, and political participation. It also aims to eliminate all forms of violence against women and girls, and to ensure that they have access to sexual and reproductive health services.\n",
      "-------------------------------------\\n\\n\n",
      "Question:     Answer: To achieve gender equality and empower all women and girls.\n",
      "Answer:   The context provided discusses various goals and strategies for sustainable development, focusing on issues such as poverty, hunger, health, education, gender equality, climate change, and economic growth. The text mentions the Sustainable Development Goals (SDGs), which were agreed upon by 193 countries in 2015, and aims to achieve a better and more sustainable future by 2030. The goals include ending extreme poverty, ensuring access to affordable and clean energy, promoting sustainable agriculture, improving health and well-being, ensuring inclusive and equitable quality education, achieving gender equality, ensuring access to clean water and sanitation, and taking urgent action to combat climate change, among others. The text also emphasizes the importance of innovation, infrastructure, and international cooperation in achieving these goals.\n",
      "-------------------------------------\\n\\n\n",
      "Question:  \n",
      "Answer:   To help implement and revitalize the Global Partnership for Sustainable Development, here are some actions you can take:\n",
      "\n",
      "1. Learn about the Sustainable Development Goals (SDGs) and choose a goal that you are passionate about.\n",
      "2. Make a donation to organizations working towards the SDGs, such as the United Nations Development Programme (UNDP).\n",
      "3. Start a fundraiser to raise money for the SDGs and spread awareness about them.\n",
      "4. Share content about the SDGs on social media platforms like Twitter, Facebook, and Instagram.\n",
      "5. Visit shop.undp.org to purchase SDG merchandise and show your support for the goals.\n",
      "6. Advocate for policies that promote sustainable development, such as reducing income inequality, ensuring access to education for all, and combating climate change.\n",
      "7. Support businesses and organizations that prioritize sustainable practices and contribute to the SDGs.\n",
      "8. Educate yourself and others about the importance of the SDGs and encourage them to take action as well.\n",
      "9. Volunteer your time and skills to organizations working towards the SDGs.\n",
      "10. Stay informed about the progress being made towards the SDGs and celebrate successes when they occur.\n",
      "-------------------------------------\\n\\n\n",
      "Question:  8. What is the goal of the SDG related to clean water and sanitation?\n",
      "Answer:   The goal related to clean water and sanitation in the Sustainable Development Goals (SDG) is:\n",
      "\n",
      "Ensure availability and sustainable management of water and sanitation for all.\n",
      "\n",
      "This goal aims to ensure universal and equitable access to safe and affordable drinking water for all, and to end open defecation, provide access to adequate and equitable sanitation and hygiene for all, and increase water-use efficiency across all sectors and ensure sustainable withdrawals and supply of freshwater. By 2030, the goal is to achieve this by implementing integrated water resources management at all levels, including through transboundary cooperation as appropriate.\n",
      "-------------------------------------\\n\\n\n",
      "Question:     Answer: To ensure availability and sustainable management of water and sanitation for all.\n",
      "Answer:   The Sustainable Development Goals (SDGs) aim to ensure the availability and sustainable management of water and sanitation for all by 2030. This goal is important because clean water and sanitation are essential for human health, food production, and economic development. The goal includes targets for achieving universal and equitable access to safe and affordable drinking water, improving water quality, increasing water-use efficiency, and increasing access to adequate and equitable sanitation and hygiene education. The goal also aims to protect and restore water-related ecosystems, including forests, wetlands, rivers, lakes, and aquifers.\n",
      "-------------------------------------\\n\\n\n",
      "Question:  \n",
      "Answer:   To help implement and revitalize the Global Partnership for Sustainable Development, here are some actions you can take:\n",
      "\n",
      "1. Learn about the Sustainable Development Goals (SDGs) and choose a goal that you are passionate about.\n",
      "2. Make a donation to organizations working towards the SDGs, such as the United Nations Development Programme (UNDP).\n",
      "3. Start a fundraiser to raise money for the SDGs and spread awareness about them.\n",
      "4. Spread the word about the SDGs on social media platforms like Twitter, Facebook, and Instagram.\n",
      "5. Visit shop.undp.org for SDG merchandise to show your support.\n",
      "6. Get involved in local initiatives that align with the SDGs, such as volunteering for organizations working towards poverty eradication, promoting education, or protecting the environment.\n",
      "7. Advocate for policies that support the SDGs at the local, national, and international levels.\n",
      "8. Educate yourself and others about the importance of the SDGs and the impact they can have on the world.\n",
      "9. Collaborate with others to create sustainable solutions to global challenges.\n",
      "10. Stay informed about progress towards the SDGs and hold leaders accountable for their commitments.\n",
      "-------------------------------------\\n\\n\n",
      "Question:  9. What is the goal of the SDG related to energy?\n",
      "Answer:   The Sustainable Development Goal (SDG) related to energy is Goal 7: Ensure access to affordable, reliable, sustainable and modern energy for all. This goal aims to ensure universal access to electricity, increase the share of renewable energy in the global energy mix, and improve energy efficiency. The goal is to ensure that everyone, everywhere has access to clean cooking facilities and fuels by 2030.\n",
      "-------------------------------------\\n\\n\n",
      "Question:     Answer: To ensure access to affordable, reliable, sustainable and modern energy for all.\n",
      "Answer:   To ensure access to affordable, reliable, sustainable, and modern energy for all is one of the Sustainable Development Goals. This goal aims to ensure that everyone, everywhere has access to modern energy services, such as electricity, by 2030. This includes improving infrastructure and promoting innovation in the energy sector to make energy more affordable and sustainable. It also involves increasing the share of renewable energy in the global energy mix and enhancing international cooperation to facilitate access to clean energy.\n",
      "-------------------------------------\\n\\n\n",
      "Question:  \n",
      "Answer:   To help implement and revitalize the Global Partnership for Sustainable Development, here are some actions you can take:\n",
      "\n",
      "1. Learn about the Sustainable Development Goals (SDGs) and choose a goal that you are passionate about.\n",
      "2. Make a donation to organizations working towards the SDGs, such as the United Nations Development Programme (UNDP).\n",
      "3. Start a fundraiser to raise money for the SDGs and spread awareness about them.\n",
      "4. Spread the word about the SDGs on social media platforms like Twitter, Facebook, and Instagram.\n",
      "5. Visit shop.undp.org for SDG merchandise to show your support.\n",
      "6. Advocate for policies that promote sustainable development, such as investing in infrastructure, promoting inclusive and sustainable industrialization, and reducing inequality.\n",
      "7. Support policies that ensure access to affordable, reliable, sustainable, and modern energy for all.\n",
      "8. Support policies that promote decent work for all women and men, and eradicate forced labor, slavery, and human trafficking.\n",
      "9. Support policies that promote sustainable consumption and production patterns, and manage natural resources more efficiently.\n",
      "10. Support policies that ensure the availability and sustainable management of water and sanitation for all.\n",
      "11. Support policies that promote gender equality and empower all women and girls.\n",
      "12. Support policies that ensure access to affordable, safe, and nutritious food for all, and promote sustainable agriculture.\n",
      "13. Support policies that ensure healthy lives and promote well-being for all at all ages.\n",
      "14. Support policies that build resilient infrastructure, promote inclusive and sustainable industrialization, and foster innovation.\n",
      "15. Support policies that take urgent action to combat climate change and its impacts, and help vulnerable regions become more resilient.\n",
      "-------------------------------------\\n\\n\n",
      "Question:  10. What is the goal of the SDG related to economic growth and employment?\n",
      "Answer:   The goal related to economic growth and employment in the SDGs is \"Decent Work and Economic Growth\". This goal aims to promote sustained, inclusive and sustainable economic growth, full and productive employment and decent work for all. It includes targets such as achieving higher levels of economic productivity through diversification, technological upgrading and innovation, and promoting development-oriented policies that support productive activities, decent job creation, entrepreneurship, creativity and innovation. It also aims to achieve greater access to financial services, including microfinance, and affordable credit and loans for small-scale industrial and other enterprises.\n",
      "-------------------------------------\\n\\n\n",
      "Question:     Answer: To promote sustained, inclusive and sustainable economic growth, full and productive employment and decent work for all.\n",
      "Answer:   The user's question is about promoting sustained, inclusive, and sustainable economic growth, full and productive employment, and decent work for all. According to the context provided, this goal can be achieved by promoting policies that encourage entrepreneurship and job creation, eradicating forced labor, slavery, and human trafficking, and ensuring decent work for all women and men by 2030. Additionally, building resilient infrastructure and promoting inclusive and sustainable industrialization can also contribute to this goal.\n",
      "-------------------------------------\\n\\n\n",
      "Question:  \n",
      "Answer:   To help implement and revitalize the Global Partnership for Sustainable Development, here are some actions you can take:\n",
      "\n",
      "1. Learn about the Sustainable Development Goals (SDGs) and choose a goal that you are passionate about.\n",
      "2. Make a donation to organizations working towards the SDGs, such as the United Nations Development Programme (UNDP).\n",
      "3. Start a fundraiser to raise money and awareness for the SDGs.\n",
      "4. Spread the word about the SDGs on social media platforms like Twitter, Facebook, and Instagram.\n",
      "5. Visit shop.undp.org to purchase SDG merchandise and show your support.\n",
      "6. Get involved in local initiatives and projects that align with the SDGs.\n",
      "7. Advocate for policies and actions that support the SDGs at the local, national, and international levels.\n",
      "8. Educate yourself and others about the importance of the SDGs and the role they play in creating a sustainable future for all.\n",
      "9. Collaborate with others to create solutions and take action towards achieving the SDGs.\n",
      "10. Stay informed about progress towards the SDGs and celebrate successes, while also acknowledging challenges and working towards solutions.\n",
      "-------------------------------------\\n\\n\n",
      "Question:  11. What is the goal of the SDG related to infrastructure, industrialization, and innovation?\n",
      "Answer:   The goal related to infrastructure, industrialization, and innovation in the Sustainable Development Goals (SDG) is to \"Build resilient infrastructure, promote inclusive and sustainable industrialization, and foster innovation.\" This goal aims to promote sustainable industries, technological progress, and bridge the digital divide by investing in innovation and infrastructure. It also encourages the reduction of waste and the promotion of responsible consumption patterns.\n",
      "-------------------------------------\\n\\n\n",
      "Question:     Answer: To build resilient infrastructure, promote inclusive and sustainable industrialization and foster innovation.\n",
      "Answer:   To build resilient infrastructure, promote inclusive and sustainable industrialization, and foster innovation means focusing on policies and actions that aim to create strong, durable, and adaptable physical and social structures, such as roads, buildings, and institutions. This also involves encouraging the growth of industries that are environmentally friendly, inclusive, and promote innovation. The goal is to create a more robust and sustainable economy that can withstand shocks and challenges, and contribute to the overall development of a country. This can be achieved by investing in research and development, improving infrastructure, promoting fair trade, and creating policies that support small and medium-sized enterprises.\n",
      "-------------------------------------\\n\\n\n",
      "Question:  \n",
      "Answer:   To help implement and revitalize the Global Partnership for Sustainable Development, here are some actions you can take:\n",
      "\n",
      "1. Learn about the Sustainable Development Goals (SDGs) and choose a goal that you are passionate about.\n",
      "2. Make a donation to organizations working towards the SDGs, such as the United Nations Development Programme (UNDP).\n",
      "3. Start a fundraiser to raise money and awareness for the SDGs.\n",
      "4. Spread the word about the SDGs on social media platforms like Twitter, Facebook, and Instagram.\n",
      "5. Visit shop.undp.org for SDG merchandise to show your support.\n",
      "6. Advocate for policies that promote sustainable development, such as reducing income inequality, ensuring access to quality education, and combating climate change.\n",
      "7. Support businesses and organizations that prioritize sustainable practices and ethical labor standards.\n",
      "8. Educate yourself and others about the importance of the SDGs and the role each person can play in achieving them.\n",
      "9. Volunteer your time and skills to organizations working towards the SDGs.\n",
      "10. Vote for political leaders who prioritize sustainable development and the SDGs.\n",
      "-------------------------------------\\n\\n\n",
      "Question:  12. What is the goal of the SDG related to reducing inequality?\n",
      "Answer:   The goal related to reducing inequality in the Sustainable Development Goals (SDG) is Goal 10: Reduce Inequality within and among countries. This goal aims to adopt policies that create opportunity for everyone, regardless of who they are or where they come from, and to improve the regulation of financial markets and institutions, send development aid where it is most needed, and help people migrate safely so they can pursue opportunities. The goal is to change the direction of the old story of inequality.\n",
      "-------------------------------------\\n\\n\n",
      "Question:     Answer: To reduce inequality within and among countries.\n",
      "Answer:   To reduce inequality within and among countries, we can adopt policies that create opportunity for everyone, regardless of who they are or where they come from. This includes improving the regulation of financial markets and institutions, sending development aid where it is most needed, and helping people migrate safely so they can pursue opportunities. It's a global problem that requires global solutions.\n",
      "-------------------------------------\\n\\n\n",
      "Question:  \n",
      "Answer:   To help implement and revitalize the Global Partnership for Sustainable Development, here are some actions you can take:\n",
      "\n",
      "1. Learn about the Sustainable Development Goals (SDGs) and choose a goal that you are passionate about.\n",
      "2. Make a donation to organizations working towards the SDGs, such as the United Nations Development Programme (UNDP).\n",
      "3. Start a fundraiser to raise money and awareness for the SDGs.\n",
      "4. Spread the word about the SDGs on social media platforms like Twitter, Facebook, and Instagram.\n",
      "5. Visit shop.undp.org for SDG merchandise to show your support.\n",
      "6. Support policies that create opportunities for everyone, regardless of their background, to achieve decent work and economic growth.\n",
      "7. Promote sustainable industries, innovation, and infrastructure development to bridge the digital divide.\n",
      "8. Advocate for policies that reduce inequality within and among countries, such as improving the regulation of financial markets and institutions, sending development aid where it is most needed, and helping people migrate safely.\n",
      "9. Support policies that make cities inclusive, safe, resilient, and sustainable, such as creating good, affordable public housing, upgrading slum settlements, and investing in public transport and green spaces.\n",
      "10. Encourage sustainable consumption and production patterns by managing natural resources more efficiently, reducing per capita food waste, and promoting recycling and waste reduction.\n",
      "11. Take urgent action to combat climate change and its impacts, such as helping more vulnerable regions become more resilient and investing in renewable energy sources.\n",
      "12. Support policies that ensure access to affordable, reliable, sustainable, and modern energy for all.\n",
      "13. Advocate for policies that promote sustained, inclusive, and sustainable economic growth, full and productive employment, and decent work for all.\n",
      "14. Support policies that ensure the availability and sustainable management of water and sanitation for all.\n",
      "15. Advocate for policies that ensure gender equality and empower all women and girls.\n",
      "-------------------------------------\\n\\n\n",
      "Question:  13. What is the goal of the SDG related to sustainable cities and communities?\n",
      "Answer:   The goal of the Sustainable Development Goal (SDG) related to sustainable cities and communities is to make cities and human settlements inclusive, safe, resilient, and sustainable. This includes creating good, affordable public housing, upgrading slum settlements, investing in public transport, creating green spaces, and getting a broader range of people involved in urban planning decisions. The aim is to keep the things we love about cities, and change the things we don't, to make cities sustainable for all.\n",
      "-------------------------------------\\n\\n\n",
      "Question:     Answer: To make cities and human settlements inclusive, safe, resilient and sustainable.\n",
      "Answer:   The Sustainable Development Goal that aims to make cities and human settlements inclusive, safe, resilient, and sustainable is number 11. This goal encourages the creation of good, affordable public housing, the upgrade of slum settlements, investment in public transport, creation of green spaces, and broader involvement of people in urban planning decisions to make cities sustainable for all.\n",
      "-------------------------------------\\n\\n\n",
      "Question:  \n",
      "Answer:   To help implement and revitalize the Global Partnership for Sustainable Development, here are some actions you can take:\n",
      "\n",
      "1. Learn about the Sustainable Development Goals (SDGs) and choose a goal that you are passionate about.\n",
      "2. Make a donation to organizations working towards the SDGs, such as the United Nations Development Programme (UNDP).\n",
      "3. Start a fundraiser to raise money and awareness for the SDGs.\n",
      "4. Spread the word about the SDGs on social media by following UNDP on Twitter, Facebook, and Instagram, and sharing their content.\n",
      "5. Visit shop.undp.org to purchase SDG merchandise and show your support.\n",
      "6. Advocate for policies that support the SDGs in your community and at the national level.\n",
      "7. Volunteer your time and skills to organizations working towards the SDGs.\n",
      "8. Educate yourself and others about the importance of the SDGs and the role they play in creating a more sustainable and equitable world.\n",
      "9. Collaborate with others to create local projects and initiatives that align with the SDGs.\n",
      "10. Stay informed about the progress being made towards the SDGs and celebrate successes, while also identifying areas for improvement.\n",
      "-------------------------------------\\n\\n\n",
      "Question:  14. What is the goal of the SDG related to sustainable consumption and production?\n",
      "Answer:   The goal related to sustainable consumption and production in the Sustainable Development Goals (SDG) is to \"Ensure sustainable consumption and production patterns.\" This goal aims to achieve a world where everyone can meet their basic needs while preserving the Earth's natural resources for future generations. It encourages efficient management of natural resources, reduction of waste, and responsible consumption patterns, particularly in countries that have not traditionally consumed a lot. The goal also focuses on cutting per capita food waste in half globally, getting businesses and consumers to reduce, reuse, and recycle waste, and helping vulnerable regions become more resilient to climate change.\n",
      "-------------------------------------\\n\\n\n",
      "Question:     Answer: To ensure sustainable consumption and production patterns.\n",
      "Answer:   The Sustainable Development Goal that focuses on ensuring sustainable consumption and production patterns aims to achieve a world where everyone gets what they need to survive and thrive, while preserving natural resources for future generations. This goal encourages efficient management of natural resources, reducing waste, and promoting responsible consumption patterns. It also helps countries that have typically not consumed a lot to move towards more sustainable consumption patterns.\n",
      "-------------------------------------\\n\\n\n",
      "Question:  \n",
      "Answer:   To help implement and revitalize the Global Partnership for Sustainable Development, here are some actions you can take:\n",
      "\n",
      "1. Learn about the Sustainable Development Goals (SDGs) and choose a goal that you are passionate about.\n",
      "2. Make a donation to organizations working towards the SDGs, such as the United Nations Development Programme (UNDP).\n",
      "3. Start a fundraiser to raise money for the SDGs and spread awareness about them.\n",
      "4. Spread the word about the SDGs on social media platforms like Twitter, Facebook, and Instagram.\n",
      "5. Visit shop.undp.org for SDG merchandise to show your support.\n",
      "6. Advocate for policies that promote sustainable development, such as investing in infrastructure, promoting sustainable industries, and reducing inequality.\n",
      "7. Support policies that encourage entrepreneurship and job creation, eradicate forced labor, slavery, and human trafficking.\n",
      "8. Promote sustainable agriculture and support small farmers to help end hunger and malnutrition.\n",
      "9. Encourage governments to prioritize health coverage and access to safe and effective medicines and vaccines.\n",
      "10. Advocate for policies that promote inclusive and equitable quality education and lifelong learning opportunities for all.\n",
      "11. Support policies that create opportunities for everyone, regardless of who they are or where they come from.\n",
      "12. Encourage the creation of good, affordable public housing, upgrading of slum settlements, and investment in public transport, green spaces, and urban planning.\n",
      "13. Promote sustainable consumption and production patterns by managing natural resources more efficiently, reducing per capita food waste, and encouraging businesses and consumers to reduce and recycle waste.\n",
      "14. Take urgent action to combat climate change and its impacts by helping more vulnerable regions become more resilient.\n",
      "15. Support policies that ensure gender equality and empower all women and girls.\n",
      "16. Advocate for policies that ensure access to safe and affordable drinking water and sanitation for all.\n",
      "17. Encourage the use of affordable, reliable, sustainable, and modern energy for all.\n",
      "18. Promote sustained, inclusive, and sustainable economic growth, full and productive employment, and decent work for all.\n",
      "19. Support policies that build resilient infrastructure, promote inclusive and sustainable industrialization, and foster innovation.\n",
      "20. Encourage international cooperation to protect wetlands and rivers, share water-treatment technologies, and ensure the availability and sustainable management of water and sanitation for all.\n",
      "-------------------------------------\\n\\n\n",
      "Question:  15. What is the goal of the SDG related to climate change?\n",
      "Answer:   The goal related to climate change in the Sustainable Development Goals (SDG) is \"Take urgent action to combat climate change and its impacts.\" This goal aims to limit the increase in global mean temperature to two degrees Celsius above pre-industrial levels and help vulnerable regions, such as land-locked countries and island states, become more resilient to the effects of climate change.\n",
      "-------------------------------------\\n\\n\n",
      "Question:     Answer: To take urgent action to combat climate change and its impacts.\n",
      "Answer:   The user's question is not explicitly stated, but based on the context provided, it seems like the user might be asking about the goal related to climate change in the Sustainable Development Goals (SDGs). The goal that addresses climate change is \"Take urgent action to combat climate change and its impacts.\" This goal aims to help vulnerable regions become more resilient and limit the increase in global mean temperature to two degrees Celsius above pre-industrial levels to avoid the worst effects of climate change.\n",
      "-------------------------------------\\n\\n\n",
      "Question:  \n",
      "Answer:   To help implement and revitalize the Global Partnership for Sustainable Development, here are some actions you can take:\n",
      "\n",
      "1. Learn about the Sustainable Development Goals (SDGs) and choose a goal that you are passionate about.\n",
      "2. Make a donation to organizations working towards the SDGs, such as the United Nations Development Programme (UNDP).\n",
      "3. Start a fundraiser to raise money for the SDGs and spread awareness about the importance of achieving them.\n",
      "4. Spread the word about the SDGs on social media by following and sharing content from organizations like UNDP on Twitter, Facebook, and Instagram.\n",
      "5. Visit shop.undp.org to purchase SDG merchandise and show your support for the goals.\n",
      "6. Advocate for policies that support the SDGs and encourage your elected officials to take action.\n",
      "7. Educate yourself and others about the SDGs and the importance of achieving them by 2030.\n",
      "8. Take action in your own life to reduce your carbon footprint and live sustainably, such as reducing waste, using renewable energy, and supporting local businesses.\n",
      "9. Volunteer your time and skills to organizations working towards the SDGs.\n",
      "10. Stay informed about the progress being made towards the SDGs and celebrate the achievements made so far.\n",
      "-------------------------------------\\n\\n\n",
      "Question:  16. What is the goal of the SDG related to oceans, seas, and marine resources?\n",
      "Answer:   The goal of the SDG related to oceans, seas, and marine resources is to \"Conserve and sustainably use the oceans, seas and marine resources for sustainable development.\" This includes managing and protecting life below water, preventing and reducing marine pollution, and taking urgent action to address climate change impacts on marine ecosystems.\n",
      "-------------------------------------\\n\\n\n",
      "Question:     Answer: To conserve and sustainably use the oceans, seas and marine resources for sustainable development.\n",
      "Answer:   The Sustainable Development Goal that addresses the conservation and sustainable use of the oceans, seas, and marine resources is Goal 14. This goal aims to prevent and reduce marine pollution, sustainably manage fisheries, and conserve and sustainably use marine and coastal ecosystems. It also aims to increase the economic benefits to Small Island Developing States and Least Developed Countries from the sustainable use of marine resources.\n",
      "-------------------------------------\\n\\n\n",
      "Question:  \n",
      "Answer:   To help implement and revitalize the Global Partnership for Sustainable Development, here are some actions you can take:\n",
      "\n",
      "1. Learn about the Sustainable Development Goals (SDGs) and choose a goal that you are passionate about.\n",
      "2. Make a donation to organizations working towards the SDGs, such as the United Nations Development Programme (UNDP).\n",
      "3. Start a fundraiser to raise money and awareness for the SDGs.\n",
      "4. Spread the word about the SDGs on social media platforms like Twitter, Facebook, and Instagram.\n",
      "5. Visit shop.undp.org to purchase SDG merchandise and show your support.\n",
      "6. Advocate for policies that support the SDGs in your community and government.\n",
      "7. Volunteer your time and skills to organizations working towards the SDGs.\n",
      "8. Educate yourself and others about the importance of the SDGs and the impact they can have on the world.\n",
      "9. Encourage businesses to adopt sustainable practices and support the SDGs.\n",
      "10. Participate in events and campaigns related to the SDGs to show your support and raise awareness.\n",
      "-------------------------------------\\n\\n\n",
      "Question:  17. What is the goal of the SDG related to terrestrial ecosystems, forests, desertification, and biodiversity loss?\n",
      "Answer:   The goal of the Sustainable Development Goal (SDG) related to terrestrial ecosystems, forests, desertification, and biodiversity loss is to \"Promote peaceful and inclusive societies for sustainable development, provide access to justice for all and build effective, accountable and inclusive institutions at all levels.\" However, this seems to be a mistake in the provided context. The correct goal should be \"PROTECT, RESTORE AND PROMOTE SUSTAINABLE USE OF TERRESTRIAL ECOSYSTEMS, SUSTAINABLY MANAGE FORESTS, COMBAT DESERTIFICATION, AND HALT AND REVERSE LAND DEGRADATION AND HALT BIODIVERSITY LOSS.\" I apologize for any confusion caused.\n",
      "-------------------------------------\\n\\n\n",
      "Question:     Answer: To protect, restore and promote sustainable use of terrestrial ecosystems, sustainably manage forests, combat desertification, and halt and reverse land degradation and biodiversity loss.\n",
      "Answer:   The Sustainable Development Goal that pertains to the protection, restoration, and promotion of sustainable use of terrestrial ecosystems, as well as the sustainable management of forests, combating desertification, and halting and reversing land degradation and biodiversity loss, is Goal 15. This goal aims to conserve and restore the use of terrestrial ecosystems such as forests, wetlands, drylands, and mountains by 2030.\n",
      "-------------------------------------\\n\\n\n",
      "Question:  \n",
      "Answer:   To help implement and revitalize the Global Partnership for Sustainable Development, here are some actions you can take:\n",
      "\n",
      "1. Learn about the Sustainable Development Goals (SDGs) and choose a goal that you are passionate about.\n",
      "2. Make a donation to organizations working towards the SDGs, such as the United Nations Development Programme (UNDP).\n",
      "3. Start a fundraiser to raise money and awareness for the SDGs.\n",
      "4. Spread the word about the SDGs on social media platforms like Twitter, Facebook, and Instagram.\n",
      "5. Visit shop.undp.org for SDG merchandise to show your support.\n",
      "6. Get involved in advocacy efforts to promote the SDGs and encourage your local community to take action.\n",
      "7. Educate yourself and others about the importance of the SDGs and the role they play in creating a sustainable future.\n",
      "8. Support policies and initiatives that align with the SDGs, such as those that promote sustainable agriculture, renewable energy, and gender equality.\n",
      "9. Volunteer your time and skills to organizations working towards the SDGs.\n",
      "10. Vote for political leaders who prioritize the SDGs and support policies that align with them.\n",
      "-------------------------------------\\n\\n\n",
      "Question:  18. What is the goal of the SDG related to peaceful and inclusive societies, access to justice, and effective institutions?\n",
      "Answer:   The goal related to peaceful and inclusive societies, access to justice, and effective institutions in the Sustainable Development Goals (SDG) is SDG 16. The goal is to \"Promote peaceful and inclusive societies for sustainable development, provide access to justice for all and build effective, accountable and inclusive institutions at all levels.\" This goal aims to reduce violence, corruption, and inequalities, and to promote the rule of law, human rights, and access to justice for all.\n",
      "-------------------------------------\\n\\n\n",
      "Question:     Answer: To promote peaceful and inclusive societies for sustainable development, provide access to justice for all and build effective, accountable and inclusive institutions at all levels.\n",
      "Answer:   To help with the implementation and revitalization of the Global Partnership for Sustainable Development, you can:\n",
      "\n",
      "1. Learn about the Sustainable Development Goals and understand what each goal entails.\n",
      "2. Take action to support the goals by making a donation, starting a fundraiser, or spreading the word about the SDGs.\n",
      "3. Visit shop.undp.org for SDG merchandise to show your support.\n",
      "4. Follow the United Nations Development Programme (UNDP) on Twitter, Facebook, and Instagram to stay updated on their work towards the SDGs.\n",
      "5. Advocate for policies and actions that promote peaceful and inclusive societies, provide access to justice for all, and build effective, accountable, and inclusive institutions at all levels.\n",
      "6. Encourage others to do the same and work together to achieve the SDGs by 2030.\n",
      "-------------------------------------\\n\\n\n",
      "Question:  \n",
      "Answer:   To help implement and revitalize the Global Partnership for Sustainable Development, here are some actions you can take:\n",
      "\n",
      "1. Learn about the Sustainable Development Goals (SDGs) and choose a goal that you are passionate about.\n",
      "2. Make a donation to organizations working towards the SDGs, such as the United Nations Development Programme (UNDP).\n",
      "3. Start a fundraiser to raise money and awareness for the SDGs.\n",
      "4. Spread the word about the SDGs on social media by following UNDP on Twitter, Facebook, and Instagram and sharing their content.\n",
      "5. Visit shop.undp.org to purchase SDG merchandise and show your support.\n",
      "6. Advocate for policies that support the SDGs and encourage your elected officials to take action.\n",
      "7. Educate yourself and others about the importance of the SDGs and the role they play in creating a better future for all.\n",
      "8. Take action in your own life to reduce your carbon footprint and live sustainably.\n",
      "9. Volunteer your time and skills to organizations working towards the SDGs.\n",
      "10. Collaborate with others to create sustainable solutions to global challenges.\n",
      "-------------------------------------\\n\\n\n",
      "Question:  19. What is the goal of the SDG related to revitalizing the global partnership for sustainable development?\n",
      "Answer:   The goal related to revitalizing the global partnership for sustainable development is to \"Strengthen the means of implementation and revitalize the Global Partnership for Sustainable Development.\" This goal aims to mobilize and increase the availability of financial resources, strengthen the technological capacity of developing countries, promote effective public, public-private and civil society partnerships, and ensure that the participation of all countries, particularly developing countries, in decision-making is increased. The goal is to ensure that all countries have the means to achieve the other 16 Sustainable Development Goals by 2030.\n",
      "-------------------------------------\\n\\n\n",
      "Question:     Answer: To strengthen the means of implementation and revitalize the global partnership for sustainable development.\n",
      "Answer:   To strengthen the means of implementation and revitalize the global partnership for sustainable development, one can take the following actions:\n",
      "\n",
      "1. Go shopping: Purchase SDG merchandise from shop.undp.org to show support for the goals.\n",
      "2. Make a donation: Donate to the United Nations Development Programme (UNDP) to support their efforts in achieving the SDGs.\n",
      "3. Start a fundraiser: Organize a fundraiser to raise money for the SDGs and create awareness about the goals.\n",
      "4. Spread the word: Share content about the SDGs on social media platforms like Twitter, Facebook, and Instagram.\n",
      "5. Visit undp.org/takeaction to learn more about fundraising opportunities and how to get involved in supporting the SDGs.\n",
      "\n",
      "These actions can help raise funds, create awareness, and inspire others to take action towards achieving the SDGs by 2030.\n",
      "-------------------------------------\\n\\n\n",
      "Question:  \n",
      "Answer:   To help implement and revitalize the Global Partnership for Sustainable Development, here are some actions you can take:\n",
      "\n",
      "1. Learn about the Sustainable Development Goals (SDGs) and choose a goal that you are passionate about.\n",
      "2. Make a donation to organizations working towards the SDGs, such as the United Nations Development Programme (UNDP).\n",
      "3. Start a fundraiser to raise money and awareness for the SDGs.\n",
      "4. Spread the word about the SDGs on social media platforms like Twitter, Facebook, and Instagram.\n",
      "5. Visit shop.undp.org for SDG merchandise to show your support.\n",
      "6. Get involved in local initiatives or organizations that align with the SDGs.\n",
      "7. Advocate for policies and practices that support the SDGs in your community, workplace, and government.\n",
      "8. Educate yourself and others about the importance of the SDGs and the impact they can have on the world.\n",
      "9. Volunteer your time and skills to organizations working towards the SDGs.\n",
      "10. Encourage businesses to adopt sustainable practices and support the SDGs.\n",
      "11. Vote for political leaders who prioritize the SDGs and take action to achieve them.\n",
      "12. Support fair trade and ethical consumerism to promote sustainable development.\n",
      "13. Reduce your own carbon footprint and adopt sustainable practices in your daily life.\n",
      "14. Participate in events and campaigns that raise awareness and funds for the SDGs.\n",
      "15. Collaborate with others to create solutions and take action towards achieving the SDGs.\n",
      "-------------------------------------\\n\\n\n",
      "Question:  20. What is one way individuals can support the SDGs?\n",
      "Answer:   One way individuals can support the Sustainable Development Goals (SDGs) is by making a donation to organizations that work towards achieving these goals. The United Nations Development Programme (UNDP) is one such organization that is working to fulfill the SDGs by 2030. Donations can be made on their website, undp.org/takeaction. Additionally, individuals can also spread awareness about the SDGs on social media platforms like Twitter, Facebook, and Instagram by sharing content related to the goals they are passionate about.\n",
      "-------------------------------------\\n\\n\n",
      "Question:     Answer: By making a donation, starting a fundraiser, spreading the word, or visiting shop.undp.org for SDG merchandise.\n",
      "Answer:   To help implement and revitalize the Global Partnership for Sustainable Development, you can:\n",
      "\n",
      "1. Make a donation: Visit undp.org/takeaction to donate and learn more about fundraising.\n",
      "2. Start a fundraiser: Organize a fundraiser to raise money, create awareness, and inspire others.\n",
      "3. Spread the word: Search for @UNDP on Twitter, Facebook, and Instagram, and share the content you love.\n",
      "4. Visit shop.undp.org for SDG merchandise: Show off the goals you're most passionate about.\n",
      "-------------------------------------\\n\\n\n"
     ]
    }
   ],
   "source": [
    "# Answer each question and save to a file\n",
    "for question in ques_list:\n",
    "    print(\"Question: \", question)\n",
    "    answer = answer_generation_chain.run(question)\n",
    "    print(\"Answer: \", answer)\n",
    "    print(\"-------------------------------------\\\\n\\\\n\")\n",
    "    #Save answer to a file\n",
    "    with open(\"answer.txt\", \"a\") as f:\n",
    "        f.write(\"\\nQuestion: \" + question + \"\\\\n\")\n",
    "        f.write(\"Answer: \" + answer + \"\\\\n\")\n",
    "        f.write(\"-------------------------------------\\\\n\\\\n\")"
   ]
  },
  {
   "cell_type": "code",
   "execution_count": null,
   "id": "41a0edec",
   "metadata": {},
   "outputs": [],
   "source": []
  },
  {
   "cell_type": "code",
   "execution_count": null,
   "id": "332594ad",
   "metadata": {},
   "outputs": [],
   "source": []
  }
 ],
 "metadata": {
  "kernelspec": {
   "display_name": "QAgenerator",
   "language": "python",
   "name": "python3"
  },
  "language_info": {
   "codemirror_mode": {
    "name": "ipython",
    "version": 3
   },
   "file_extension": ".py",
   "mimetype": "text/x-python",
   "name": "python",
   "nbconvert_exporter": "python",
   "pygments_lexer": "ipython3",
   "version": "3.11.13"
  }
 },
 "nbformat": 4,
 "nbformat_minor": 5
}
